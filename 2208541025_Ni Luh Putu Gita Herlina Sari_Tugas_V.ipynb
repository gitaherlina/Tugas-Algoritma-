{
 "cells": [
  {
   "cell_type": "markdown",
   "id": "6051ac6e-4c90-4055-9159-6e53f78e8ede",
   "metadata": {},
   "source": [
    "**TUGAS PERTEMUAN KE-LIMA**"
   ]
  },
  {
   "cell_type": "markdown",
   "id": "396030f1-4ea2-422b-ac36-cda14025f752",
   "metadata": {},
   "source": [
    "***5.16 List 2 Dimensi***"
   ]
  },
  {
   "cell_type": "markdown",
   "id": "d14aa2fb-4bac-4e6d-a8e3-82e2c5cca68c",
   "metadata": {},
   "source": [
    "List 2 dimensi pada umumnya adalah menempatkan sebuah list. Penggambarannya seperti sebuah matrik"
   ]
  },
  {
   "cell_type": "code",
   "execution_count": 1,
   "id": "6d84a9c6-5deb-47fc-89f9-205dce9bf9ba",
   "metadata": {},
   "outputs": [
    {
     "name": "stdout",
     "output_type": "stream",
     "text": [
      "[[2, 4, 5, 6], [8, 10, 12, 14], [16, 18, 20, 22], [24, 26, 28, 30]]\n"
     ]
    }
   ],
   "source": [
    "#Latihan list 2 Dimensi (1) dengan elemen yang sama\n",
    "\n",
    "#inisialisasi variabel \n",
    "matrik = [\n",
    "    [2,4,5,6],\n",
    "    [8,10,12,14],\n",
    "    [16,18,20,22],\n",
    "    [24,26,28,30]\n",
    "]\n",
    "#baris ini akan menampilkan elemen dari variabel matrik\n",
    "print(matrik)"
   ]
  },
  {
   "cell_type": "code",
   "execution_count": 2,
   "id": "1039d9db-892b-483e-9609-d9a9309e9086",
   "metadata": {},
   "outputs": [
    {
     "name": "stdout",
     "output_type": "stream",
     "text": [
      "[8, 10, 12, 14]\n"
     ]
    }
   ],
   "source": [
    "#Latihan list 2 Dimensi (2) dengan elemen yang sama \n",
    "\n",
    "#inisialisasi variabel \n",
    "matrik = [\n",
    "    [2,4,5,6],\n",
    "    [8,10,12,14],\n",
    "    [16,18,20,22],\n",
    "    [24,26,28,30]\n",
    "]\n",
    "#baris ini akan menampilkan elemen pada baris pertama dari variabel matrik\n",
    "print(matrik[1])"
   ]
  },
  {
   "cell_type": "code",
   "execution_count": 3,
   "id": "1d64f0eb-8cc1-4e6f-aa8d-3353de940856",
   "metadata": {},
   "outputs": [
    {
     "name": "stdout",
     "output_type": "stream",
     "text": [
      "22\n"
     ]
    }
   ],
   "source": [
    "#Latihan List 2 Dimensi (3) dengan elemen yang sama \n",
    "\n",
    "#inisialisasi variabel \n",
    "matrik = [\n",
    "    [2,4,5,6],\n",
    "    [8,10,12,14],\n",
    "    [16,18,20,22],\n",
    "    [24,26,28,30]\n",
    "]\n",
    "#baris ini akan menampilkan elemen pada baris kedua, kolom keempat dari variabel matrik\n",
    "print(matrik[2][3])"
   ]
  },
  {
   "cell_type": "code",
   "execution_count": 4,
   "id": "4ec682f7-9bd5-4972-95b9-446a5280c766",
   "metadata": {},
   "outputs": [
    {
     "name": "stdout",
     "output_type": "stream",
     "text": [
      "55\n",
      "[[2, 4, 5, 6], [8, 10, 12, 14], [16, 18, 20, 22], [24, 55, 28, 30]]\n"
     ]
    }
   ],
   "source": [
    "#Latihan list 2 Dimensi (4) dengan elemen yang sama dan mengubah elemen pada variabel\n",
    "\n",
    "#inisialisasi variabel \n",
    "matrik = [\n",
    "    [2,4,5,6],\n",
    "    [8,10,12,14],\n",
    "    [16,18,20,22],\n",
    "    [24,26,28,30]\n",
    "]\n",
    "matrik[3][1]=55\n",
    "#baris ini akan menampilkan elemen matrik pada baris ketiga, kolom kedua dengan 55 dari variabel matrik\n",
    "print(matrik[3][1])\n",
    "#baris ini akan menampilkan elemen dari variabel matrik yang sudah dirubah \n",
    "print(matrik)"
   ]
  },
  {
   "cell_type": "code",
   "execution_count": 5,
   "id": "4439f611-db35-43ca-a970-b9203a85aea5",
   "metadata": {},
   "outputs": [
    {
     "name": "stdout",
     "output_type": "stream",
     "text": [
      "['kedokteran', 'ekonomi', 'mipa']\n",
      "['pertenakan']\n"
     ]
    }
   ],
   "source": [
    "#Latihan List 2 Dimensi (5) dengan elemen yang sama \n",
    "\n",
    "#inisialisasi variabel \n",
    "fakultas = [\n",
    "    [\"kedokteran\", \"ekonomi\", \"mipa\"],\n",
    "    [\"pertanian\", \"kelautan\", \"pertenakan\"],\n",
    "    [\"teknik\", \"fisip\", \"hukum\"]\n",
    "]\n",
    "#baris ini akan menampilkan elemen matrik pada baris pertama \n",
    "print(fakultas[0][0:])\n",
    "#baris ini akan menampilkan elemen matrik pada baris pertama, kolom kedua dari belakang \n",
    "print(fakultas[1][2:])"
   ]
  },
  {
   "cell_type": "code",
   "execution_count": 6,
   "id": "1c872551-c054-4fc7-bfe7-3cbfffdc28d2",
   "metadata": {},
   "outputs": [
    {
     "name": "stdout",
     "output_type": "stream",
     "text": [
      "['Apache']\n",
      "['Apache']\n"
     ]
    }
   ],
   "source": [
    "#latihan List 2 Dimensi (6) dengan list yang berbeda\n",
    "\n",
    "#inisialisasi variabel \n",
    "program = [\n",
    "    [\"Phyton\", \"Java\", \"C++\"],\n",
    "    [\"HTML\", \"PHP\", \"Java Script\"],\n",
    "    [\"Apache\"]\n",
    "]\n",
    "#baris ini akan menampilkam elemen pada baris kedua\n",
    "print(program[2][0:])\n",
    "#baris ini akan menampilkan elemen pada baris kedua\n",
    "print(program[2])\n",
    "#kode diatas akan menghasilkan output yang sama, walaupun string yang dimasukkan berbeda \n",
    "#mengapa demikian? karena nilai [0:] artinya tidak ada urutan ke-0 dari belakang "
   ]
  },
  {
   "cell_type": "code",
   "execution_count": 7,
   "id": "eb77c389-8a1d-4ec1-b7bb-5894b52110f1",
   "metadata": {},
   "outputs": [
    {
     "name": "stdout",
     "output_type": "stream",
     "text": [
      "['es jeruk']\n",
      "[['es jeruk'], 'jus alpukat', 'lemon tea']\n",
      "['es teh']\n",
      "[['es dawet'], 'jus alpukat', 'lemon tea']\n"
     ]
    }
   ],
   "source": [
    "#Latihan list 2 Dimensi (7) dengan menggunakan dua buah list \n",
    "\n",
    "#inisialisasi varibel \n",
    "nama_minuman1 = [\"es jeruk\"]\n",
    "nama_minuman2 = [nama_minuman1, \"jus alpukat\", \"lemon tea\"]\n",
    "\n",
    "#baris ini akan menampilkan elemen dari variabel nama_minuman1 \n",
    "print(nama_minuman1)\n",
    "#baris ini akan menampilkan elemen dari variabel nama_minuman2 \n",
    "print(nama_minuman2)\n",
    "\n",
    "\n",
    "nama_minuman1[0] = \"es teh\"\n",
    "#baris ini akan menampilkan elemen dari variabel nama_minuman1 yang sudah dirubah pada pertama kolom pertama\n",
    "print(nama_minuman1)\n",
    "\n",
    "#baris ini akan menampilkan elemen dari variabel nama_minuman2 yang sudah dirubah pada baris pertama kolom pertama\n",
    "nama_minuman2[0][0] = \"es dawet\"\n",
    "print(nama_minuman2)"
   ]
  },
  {
   "cell_type": "code",
   "execution_count": 8,
   "id": "c4b5f8c9-9d49-45fa-b2a0-1b371edf76ae",
   "metadata": {},
   "outputs": [
    {
     "name": "stdout",
     "output_type": "stream",
     "text": [
      "['kedokteran', 'ekonomi', 'mipa']\n",
      "['pertanian', 'kelautan', 'pertenakan']\n",
      "['teknik', 'fisip', 'hukum']\n"
     ]
    }
   ],
   "source": [
    "#Latihan List 2 Dimensi (8) dengan menggunakan for\n",
    "\n",
    "#inisialisasi variabel \n",
    "fakultas = [\n",
    "    [\"kedokteran\", \"ekonomi\", \"mipa\"],\n",
    "    [\"pertanian\", \"kelautan\", \"pertenakan\"],\n",
    "    [\"teknik\", \"fisip\", \"hukum\"]\n",
    "]\n",
    "#baris ini akan memanggil semua baris didalam variabel fakultas\n",
    "for baris in fakultas :\n",
    "    print(baris)"
   ]
  },
  {
   "cell_type": "code",
   "execution_count": 9,
   "id": "1fac0cdb-13c8-437b-b38e-4e6f3530eca1",
   "metadata": {},
   "outputs": [
    {
     "name": "stdout",
     "output_type": "stream",
     "text": [
      "mipa\n",
      "pertenakan\n",
      "hukum\n"
     ]
    }
   ],
   "source": [
    "#Latihan List 2 Dimensi (9) dengan menggunakan for\n",
    "\n",
    "#inisialisasi variabel \n",
    "fakultas = [\n",
    "    [\"kedokteran\", \"ekonomi\", \"mipa\"],\n",
    "    [\"pertanian\", \"kelautan\", \"pertenakan\"],\n",
    "    [\"teknik\", \"fisip\", \"hukum\"]\n",
    "]\n",
    "#baris ini akan memanggil kolom ketiga didalam variabel fakultas\n",
    "for kolom in fakultas :\n",
    "    print(kolom[2])\n",
    "#note : kolom/baris akan dihitung mulai dari 0 maka dari itu jika kita ingin menampilkan kolom kedua \n",
    "#maka dapat ditulis dengan print(kolom[1])"
   ]
  },
  {
   "cell_type": "markdown",
   "id": "02b566f5-63d7-43dd-84bf-514ac60452a7",
   "metadata": {},
   "source": [
    "***5.17 Tuples***"
   ]
  },
  {
   "cell_type": "markdown",
   "id": "6d9ad16d-2608-4b92-a655-fbc100f402f6",
   "metadata": {},
   "source": [
    "Tuples mirip dengan list, akan tetapi tuples tidak dapat dirubah isinya. Jika kita\n",
    "memiliki data yang tidak ingin dirubah isinya, kita gunakan tuples, sedangkan\n",
    "jika datanya masih ingin dimanipulasi kedepannya, gunakan list.\n"
   ]
  },
  {
   "cell_type": "code",
   "execution_count": 10,
   "id": "42ab68b0-46cd-4956-bf14-03b8f5005dc4",
   "metadata": {},
   "outputs": [
    {
     "name": "stdout",
     "output_type": "stream",
     "text": [
      "0\n",
      "(0, 0, 1)\n",
      "0\n",
      "0\n",
      "1\n"
     ]
    }
   ],
   "source": [
    "#Latihan Tuples (1) dengan mengakses dan memotong elemen pada variabel\n",
    "\n",
    "#inisialisasi variabel \n",
    "angka = (0,0,1,1,1,2,2,3,3)\n",
    "\n",
    "#baris ini akan menampilkan elemen pada urutan 0 dari variabel angka\n",
    "print(angka[0])\n",
    "#baris ini akan menampilkan elemen pada urutan pertama hingga ketiga dari variabel angka\n",
    "print(angka[0:3])\n",
    "\n",
    "#baris ini akan memanggil elemen pada urutan pertama hingga ketiga dari variabel angka\n",
    "for isi in angka[0:3]:\n",
    "    print(isi)\n",
    "#kode diatas akan menghasilkan output yang sama. Namun, berbeda letaknya jika menggunakan print berbentuk kolom dan jika menggunakan for berbentuk baris  "
   ]
  },
  {
   "cell_type": "code",
   "execution_count": 11,
   "id": "2f0d0d23-3642-4777-86fe-d868a1c7f19e",
   "metadata": {},
   "outputs": [
    {
     "ename": "NameError",
     "evalue": "name 'a' is not defined",
     "output_type": "error",
     "traceback": [
      "\u001b[1;31m---------------------------------------------------------------------------\u001b[0m",
      "\u001b[1;31mNameError\u001b[0m                                 Traceback (most recent call last)",
      "\u001b[1;32m~\\AppData\\Local\\Temp\\ipykernel_30256\\1194523813.py\u001b[0m in \u001b[0;36m<module>\u001b[1;34m\u001b[0m\n\u001b[0;32m      2\u001b[0m \u001b[1;33m\u001b[0m\u001b[0m\n\u001b[0;32m      3\u001b[0m \u001b[1;31m#inisialisasi variabel\u001b[0m\u001b[1;33m\u001b[0m\u001b[1;33m\u001b[0m\u001b[0m\n\u001b[1;32m----> 4\u001b[1;33m \u001b[0mhuruf\u001b[0m \u001b[1;33m=\u001b[0m \u001b[1;33m(\u001b[0m\u001b[0ma\u001b[0m\u001b[1;33m,\u001b[0m\u001b[0mb\u001b[0m\u001b[1;33m,\u001b[0m\u001b[0mb\u001b[0m\u001b[1;33m,\u001b[0m\u001b[0mc\u001b[0m\u001b[1;33m,\u001b[0m\u001b[0mc\u001b[0m\u001b[1;33m,\u001b[0m\u001b[0mc\u001b[0m\u001b[1;33m,\u001b[0m\u001b[0md\u001b[0m\u001b[1;33m,\u001b[0m\u001b[0md\u001b[0m\u001b[1;33m,\u001b[0m\u001b[0md\u001b[0m\u001b[1;33m,\u001b[0m\u001b[0md\u001b[0m\u001b[1;33m)\u001b[0m\u001b[1;33m\u001b[0m\u001b[1;33m\u001b[0m\u001b[0m\n\u001b[0m\u001b[0;32m      5\u001b[0m \u001b[1;33m\u001b[0m\u001b[0m\n\u001b[0;32m      6\u001b[0m \u001b[1;31m#baris ini menginisialisasi variabel huruf pada urutan ke-0 dengan  elemen b\u001b[0m\u001b[1;33m\u001b[0m\u001b[1;33m\u001b[0m\u001b[0m\n",
      "\u001b[1;31mNameError\u001b[0m: name 'a' is not defined"
     ]
    }
   ],
   "source": [
    "#latihan Tuples (2) dengan merubah isi pada variabel\n",
    "\n",
    "#inisialisasi variabel \n",
    "huruf = (a,b,b,c,c,c,d,d,d,d)\n",
    "\n",
    "#baris ini menginisialisasi variabel huruf pada urutan ke-0 dengan  elemen b\n",
    "huruf[0] = b\n",
    "#baris ini akan menampilkan elemen ke-0 pada variabel huruf \n",
    "print(huruf[0])\n",
    "\n",
    "#kode ini akan menghasilkan error karena seperti penjelasan arti tuples bahwa tuples tidak dapat dirubah isi nya "
   ]
  },
  {
   "cell_type": "code",
   "execution_count": 12,
   "id": "bd00accb-9727-48ef-9680-cd96feef417e",
   "metadata": {},
   "outputs": [
    {
     "ename": "NameError",
     "evalue": "name 'a' is not defined",
     "output_type": "error",
     "traceback": [
      "\u001b[1;31m---------------------------------------------------------------------------\u001b[0m",
      "\u001b[1;31mNameError\u001b[0m                                 Traceback (most recent call last)",
      "\u001b[1;32m~\\AppData\\Local\\Temp\\ipykernel_30256\\2838949231.py\u001b[0m in \u001b[0;36m<module>\u001b[1;34m\u001b[0m\n\u001b[0;32m      2\u001b[0m \u001b[1;33m\u001b[0m\u001b[0m\n\u001b[0;32m      3\u001b[0m \u001b[1;31m#inisialisasi variabel\u001b[0m\u001b[1;33m\u001b[0m\u001b[1;33m\u001b[0m\u001b[0m\n\u001b[1;32m----> 4\u001b[1;33m \u001b[0mhuruf\u001b[0m \u001b[1;33m=\u001b[0m \u001b[1;33m(\u001b[0m\u001b[0ma\u001b[0m\u001b[1;33m,\u001b[0m\u001b[0mb\u001b[0m\u001b[1;33m,\u001b[0m\u001b[0mb\u001b[0m\u001b[1;33m,\u001b[0m\u001b[0mc\u001b[0m\u001b[1;33m,\u001b[0m\u001b[0mc\u001b[0m\u001b[1;33m,\u001b[0m\u001b[0mc\u001b[0m\u001b[1;33m,\u001b[0m\u001b[0md\u001b[0m\u001b[1;33m,\u001b[0m\u001b[0md\u001b[0m\u001b[1;33m,\u001b[0m\u001b[0md\u001b[0m\u001b[1;33m,\u001b[0m\u001b[0md\u001b[0m\u001b[1;33m)\u001b[0m\u001b[1;33m\u001b[0m\u001b[1;33m\u001b[0m\u001b[0m\n\u001b[0m\u001b[0;32m      5\u001b[0m \u001b[1;33m\u001b[0m\u001b[0m\n\u001b[0;32m      6\u001b[0m \u001b[1;31m#baris ini akan menambahkan elemen b ke dalam variabel huruf\u001b[0m\u001b[1;33m\u001b[0m\u001b[1;33m\u001b[0m\u001b[0m\n",
      "\u001b[1;31mNameError\u001b[0m: name 'a' is not defined"
     ]
    }
   ],
   "source": [
    "#Latihan Tuples (3) dengan menambahkan dan menghapus isi pada variabel\n",
    "\n",
    "#inisialisasi variabel \n",
    "huruf = (a,b,b,c,c,c,d,d,d,d)\n",
    "\n",
    "#baris ini akan menambahkan elemen b ke dalam variabel huruf\n",
    "huruf.append(b)\n",
    "#baris ini akan menampilkan output dari kode diatas\n",
    "print(huruf)\n",
    "\n",
    "#baris ini akan menghapus elemen c di variabel huruf\n",
    "print(huruf.remove(c))\n",
    "#baris ini akan menampilkan output dari kode diatas \n",
    "print(huruf)\n",
    "\n",
    "#kode ini akan menghasilkan error karena seperti pada penjelasannya bahwa tuples tidak dapat dirubah isinya"
   ]
  },
  {
   "cell_type": "code",
   "execution_count": 13,
   "id": "5160396c-be1d-4fb3-9522-eb83ffa6f96b",
   "metadata": {},
   "outputs": [
    {
     "name": "stdout",
     "output_type": "stream",
     "text": [
      "()\n"
     ]
    }
   ],
   "source": [
    "#Latihan Tuples (4) membuat tuples kosong\n",
    "\n",
    "#inisialisasi variabel \n",
    "tuples_kosong = ()     #jika ingin membuat tuples kosong kita cukup menuliskan dua tanda kurung\n",
    "#baris ini akan menampilkan elemen pada variabel tuples_kosong\n",
    "print(tuples_kosong)"
   ]
  },
  {
   "cell_type": "code",
   "execution_count": 14,
   "id": "223b2688-f062-4a02-adbb-09203384c645",
   "metadata": {},
   "outputs": [
    {
     "name": "stdout",
     "output_type": "stream",
     "text": [
      "<class 'int'>\n",
      "<class 'tuple'>\n"
     ]
    }
   ],
   "source": [
    "#Latihan Tuples (5) dengan mendefinisikan tuple yang hanya berisi satu elemen\n",
    "\n",
    "#inisialisasi variabel \n",
    "tuples_tunggal = (10,)  #jika variabel hanya berisi satu elemen kita tetap harus menuliskan tanda koma \n",
    "                        #karena jika tidak, maka phyton akan menganggap tanda kurungnya tidak ada \n",
    "#baris ini akan menampilkan integer biasa \n",
    "print(type((10))) \n",
    "#baris ini akan menampilkan yang dianggap sebagao tuples\n",
    "print(type((10,))) "
   ]
  },
  {
   "cell_type": "code",
   "execution_count": 15,
   "id": "66e1de5b-2931-4db6-929d-bdf02b981028",
   "metadata": {},
   "outputs": [
    {
     "name": "stdout",
     "output_type": "stream",
     "text": [
      "Nama: Krisnawan Putra\n",
      "Asal: Denpasar\n",
      "Usia: 19\n"
     ]
    }
   ],
   "source": [
    "#Latihan Tuples (6) dengan menggunakan fitur sequence unpacking\n",
    "\n",
    "#inisialisasi variabel \n",
    "siswa = (\"Krisnawan Putra\", \"Denpasar\", 19) \n",
    "#ekstrak data atau juga dinamakan sequence unpacking \n",
    "nama, asal, usia = siswa \n",
    "#setiap variabel di atas akan memiliki nilai dari tiap isi variabel secara berurutan \n",
    "print(\"Nama:\", nama)\n",
    "print(\"Asal:\", asal)\n",
    "print(\"Usia:\", usia)"
   ]
  },
  {
   "cell_type": "code",
   "execution_count": 16,
   "id": "1f3c9ef1-899d-472a-ba42-41f440459c92",
   "metadata": {},
   "outputs": [
    {
     "name": "stdout",
     "output_type": "stream",
     "text": [
      "(1, 2, 3, 40, 50, 60)\n"
     ]
    }
   ],
   "source": [
    "#Latihan Tuples (7) dengan menggabungkan dua buah tuple atau lebih\n",
    "\n",
    "#inisialisasi variabel \n",
    "a = (1, 2, 3)\n",
    "b = (40, 50, 60)\n",
    "#baris ini akan menggabungkan nilai dari variabel a dan b menjadi c \n",
    "c = a + b\n",
    "#baris ini akan menampilkan output dari kode di atas\n",
    "print(c)"
   ]
  },
  {
   "cell_type": "code",
   "execution_count": 17,
   "id": "0175d6ea-3a5c-4b64-8ad6-e7fd9f8ae670",
   "metadata": {},
   "outputs": [
    {
     "name": "stdout",
     "output_type": "stream",
     "text": [
      "2\n",
      "6\n"
     ]
    }
   ],
   "source": [
    "#Latihan Tuples (8) dengan menggunakan count dan index\n",
    "\n",
    "#inisialisasi variabel \n",
    "nilai_semester_1 = (78, 80, 90, 55, 78, 69, 100)\n",
    "\n",
    "#baris ini akan menandai beberapa kali suatu elemen hadir di dalam tuples\n",
    "print(nilai_semester_1.count(78))\n",
    "#baris ini akan menemukan elemen dalam tuples \n",
    "print(nilai_semester_1.index(100))"
   ]
  },
  {
   "cell_type": "markdown",
   "id": "a3131cf6-dab1-4985-bb69-0e5123908496",
   "metadata": {},
   "source": [
    "***5.18 Dictionaries***"
   ]
  },
  {
   "cell_type": "markdown",
   "id": "f989ee60-8e08-405d-b08b-c7d7c27b0cee",
   "metadata": {},
   "source": [
    "Dictionaries digunakan jika data nya terkait satu sama lain. Misalnya data\n",
    "seseorang yang terdiri dari umur, nama, tanggal lahir merupakan satu kesatuan\n",
    "data yang bersumber dari orang tersebut."
   ]
  },
  {
   "cell_type": "code",
   "execution_count": 18,
   "id": "282a6267",
   "metadata": {},
   "outputs": [],
   "source": [
    "#Latihan Dictionaries (1) dengan menggunakan 2 kata kunci yang sama\n",
    "\n",
    "#inisialisasi variabel \n",
    "artikel = {\n",
    "  \"judul\": \"Aplikasi Komparasi Agoritma Peramalan\",\n",
    "  \"judul\": \"Aplikasi Komparasi Agoritma Peramalan Dalam Kasus Penjualan Mobil\"\n",
    "}\n",
    "#baris ini akan menampilkan judul dari variabel artikel\n",
    "print(artikel.get(\"judul\"))\n",
    "#note : mengapa kata kunci pertama tidak muncul? \n",
    "#karena dictionary tidak bisa memiliki lebih dari satu key yang sama karena ia bersifat unique\n",
    "#sehingga jika ada dua buah key yang sama, key yang didefinisikan terakhir akan menimpa nilai dari key yang didefinisikan lebih awal"
   ]
  },
  {
   "cell_type": "code",
   "execution_count": 19,
   "id": "ed9d6348-a118-41fb-90a8-74f4cdae463f",
   "metadata": {},
   "outputs": [
    {
     "name": "stdout",
     "output_type": "stream",
     "text": [
      "Jumlah atribut variabel sekolah adalah: 3\n"
     ]
    }
   ],
   "source": [
    "#Latihan Dictionaries (2) dengan menggunakan fungsi len\n",
    "\n",
    "#inisialisasi variabel\n",
    "sekolah = {\n",
    "  'nama': 'Sekolah Dasar Negeri Surabaya 1',\n",
    "  'jenjang': 'Sekolah Dasar',\n",
    "  'akreditasi': 'A'\n",
    "}\n",
    "\n",
    "#baris ini akan menampilkan jumlah elemen pada variabel sekolah\n",
    "print(\n",
    "  \"Jumlah atribut variabel sekolah adalah:\",\n",
    "  len(sekolah)\n",
    ")"
   ]
  },
  {
   "cell_type": "code",
   "execution_count": 20,
   "id": "7048ac9e-3a39-482d-8968-9b1a23d53ce7",
   "metadata": {},
   "outputs": [
    {
     "name": "stdout",
     "output_type": "stream",
     "text": [
      "Apakah variabel siswa memiliki nama?\n",
      "True\n",
      "\n",
      "Apakah variabel siswa TIDAK memiliki usia?\n",
      "True\n"
     ]
    }
   ],
   "source": [
    "#Latihan Doctionaries (3) dengan menggunakan operator keanggotaan\n",
    "\n",
    "#inisialisasi variabel \n",
    "siswa = {\n",
    "  'nama': 'Devano Danendra'\n",
    "}\n",
    "#baris ini akan menampilkan \"apakah variabel siswa memiliki nama?\"\n",
    "print('Apakah variabel siswa memiliki nama?')\n",
    "#baris ini akan menampilkan true or false dari sebuah pernyataan di atas\n",
    "print('nama' in siswa)\n",
    "\n",
    "#baris ini akan  menampilkan \"apakah variabel siswa tidak memiliki usia?\"\n",
    "print('\\nApakah variabel siswa TIDAK memiliki usia?')\n",
    "#baris ini akan menampilkan true or false dari sebuah pernyataan diatas\n",
    "print('usia' not in siswa)"
   ]
  },
  {
   "cell_type": "code",
   "execution_count": 21,
   "id": "ee10be8e-89ec-45e3-bbed-7c47a6c8f37c",
   "metadata": {},
   "outputs": [
    {
     "data": {
      "text/plain": [
       "'Bali'"
      ]
     },
     "execution_count": 21,
     "metadata": {},
     "output_type": "execute_result"
    }
   ],
   "source": [
    "#Latihan Dictionaries (4) dengan menghapus item 2 cara \n",
    "\n",
    "#inisialisasi variabel \n",
    "mahasiswa = {\n",
    "  'nama': 'Sitha Ariesta',\n",
    "  'usia': 17,\n",
    "  'asal': 'Bali'\n",
    "}\n",
    "#baris ini akan menghapus item dengan statement dibawah yaitu del<dict[key]>\n",
    "del mahasiswa['nama']   #jika menggunakan statement ini, kita bisa mendaptkan nilai kembalian dari data yang telah di hapus \n",
    "\n",
    "#baris ini akan menghapus item dengan menggunakan fungsi dictionary.pop()\n",
    "mahasiswa.pop('asal')   #jika menggunakan fungsi ini, kita bisa mendapatkan nilai kembalian dari data yang telah di hapus"
   ]
  },
  {
   "cell_type": "code",
   "execution_count": 28,
   "id": "ff95143a-4f99-4de0-b3b9-94bbbc0c1368",
   "metadata": {},
   "outputs": [
    {
     "name": "stdout",
     "output_type": "stream",
     "text": [
      "Hobi: None\n",
      "Indonesia\n"
     ]
    }
   ],
   "source": [
    "#Latihan Dictionaries (5) dengan menambahkan item \n",
    "\n",
    "#inisialisasi variabel\n",
    "mahasiswa = {\n",
    "  'nama': 'Lendis Fabri',\n",
    "  'asal': 'Indonesia',\n",
    "}\n",
    "#baris ini akan menghasilkan output kosong karena tidak ada hobi di dalam dict mahasiswa\n",
    "print('Hobi:', mahasiswa.get('hobi'))\n",
    "#baris ini akan menambahkan dict mahasiswa pada hobi yaitu memancing\n",
    "mahasiswa['hobi'] = 'Memancing'\n",
    "#baris ini akan menampilkan output dari kode diatas \n",
    "print(mahasiswa['asal'])"
   ]
  },
  {
   "cell_type": "code",
   "execution_count": 29,
   "id": "80315dc0-3989-4822-8b87-8f7a758649e0",
   "metadata": {},
   "outputs": [
    {
     "name": "stdout",
     "output_type": "stream",
     "text": [
      "Nama awal: Gita Herlina\n",
      "Setelah diubah: Komang Widiarini\n"
     ]
    }
   ],
   "source": [
    "#Latihan Dictionaries (6) dengan mengubah nilai item\n",
    "\n",
    "#inisialisasi variabel \n",
    "mahasiswa = {\n",
    "  'nama': 'Gita Herlina',\n",
    "  'asal': 'Bali',\n",
    "  'umur': 19\n",
    "}\n",
    "#baris ini akan mengubah data pada variabel mahasiswa\n",
    "print('Nama awal:', mahasiswa.get('nama'))\n",
    "mahasiswa['nama'] = 'Komang Widiarini'\n",
    "print('Setelah diubah:', mahasiswa.get('nama'))"
   ]
  },
  {
   "cell_type": "code",
   "execution_count": 30,
   "id": "6ee9dfa5-15dc-407f-9834-360b25a7b7c6",
   "metadata": {},
   "outputs": [
    {
     "name": "stdout",
     "output_type": "stream",
     "text": [
      "judul -> Hafalan Sholat Delisa\n",
      "penulis -> Tere Liye\n",
      "judul -> Hafalan Sholat Delisa\n",
      "penulis -> Tere Liye\n"
     ]
    }
   ],
   "source": [
    "#latihan Dictionaries (7) dengan menggunakan perulangan for\n",
    "\n",
    "#inisialisasi variabel \n",
    "buku = {\n",
    "  'judul': 'Hafalan Sholat Delisa',\n",
    "  'penulis': 'Tere Liye'\n",
    "}\n",
    "#baris ini akan mengulang kata kunci yang terdapat pada variabel buku\n",
    "for key in buku:\n",
    "    #baris ini akan menampilkan output dari kode diatas\n",
    "  print(key, '->', buku[key])\n",
    "\n",
    "         #atau \n",
    "    \n",
    "#baris ini akan mengulang nilai yang terdapat pada variabel buku\n",
    "for nama_atribut, nilai in buku.items():\n",
    "    #baris ini akan menampilkan output dari kode diatas\n",
    "  print(nama_atribut, '->', nilai)\n",
    "\n",
    "#output yang dihasilkan akan tetap sama"
   ]
  },
  {
   "cell_type": "code",
   "execution_count": 31,
   "id": "72dfc816-37cc-4f9c-939b-ca20ad711395",
   "metadata": {},
   "outputs": [
    {
     "name": "stdout",
     "output_type": "stream",
     "text": [
      "Judul: Daun Yang Jatuh Tidak Pernah Membenci Angin\n"
     ]
    }
   ],
   "source": [
    "#Latihan Dictionaries (8) dengan membuat dan mengakses item pada variabel menggunakan dua cara \n",
    "\n",
    "#cara (1) membuat item\n",
    "#inisialisasi variabel \n",
    "buku = {\n",
    "  \"judul\": \"Daun Yang Jatuh Tidak Pernah Membenci Angin\",\n",
    "  \"penulis\": \"Tere Liye\"\n",
    "}\n",
    "#cara (1) mengakses item dengan kurung siku []\n",
    "print(\"Judul:\", buku[\"judul\"])"
   ]
  },
  {
   "cell_type": "code",
   "execution_count": 32,
   "id": "fab6f13f-7ae4-493a-8fc8-ea94e6b680eb",
   "metadata": {},
   "outputs": [
    {
     "name": "stdout",
     "output_type": "stream",
     "text": [
      "Penulis: Tere Liye\n"
     ]
    }
   ],
   "source": [
    "#cara (2) membuat item \n",
    "#inisialisasi variabel \n",
    "buku = dict(\n",
    "  judul=\"Daun Yang Jatuh Tidak Pernah Membenci Angin\",\n",
    "  penulis=\"Tere Liye\"\n",
    ")\n",
    "#cara (2) mengakses item dengan menggunakan fungsi get()\n",
    "print(\"Penulis:\", buku.get(\"penulis\"))"
   ]
  },
  {
   "cell_type": "markdown",
   "id": "6ed458e4-7491-47d7-8c3b-21322cbc154b",
   "metadata": {},
   "source": [
    "***5.19 Fungsi dalam Phyton***"
   ]
  },
  {
   "cell_type": "markdown",
   "id": "357bcd3c-3de2-4fc4-b50d-8fdc79735705",
   "metadata": {},
   "source": [
    "Sampai sejauh ini tanpa disadari kita telah menerapkan beberapa jenis fungsi\n",
    "pada Python seperti fungsi input, print, len, range, dll. Pada dasarnya fungsi\n",
    "dibentuk untuk menghidari pengulangan pembuatan program secara manual\n",
    "dimana fungsi tersebut memiliki pengulangan yang tinggi dalam program yang\n",
    "kita buat. Jadi untuk mempermudah dan meringkas program yang kita buat,\n",
    "setiap fungsi tersebut dibutuhkan tinggal kita panggil."
   ]
  },
  {
   "cell_type": "code",
   "execution_count": 36,
   "id": "9ef754a7-2e11-4f5c-b06e-020048ffb0f8",
   "metadata": {},
   "outputs": [
    {
     "name": "stdin",
     "output_type": "stream",
     "text": [
      "Nama depan anda adalah Gita\n",
      "Nama belakang anda adalah Herlina\n"
     ]
    }
   ],
   "source": [
    "#Latihan Fungsi dalam Phyton (1) dengan menggunakan fungsi def\n",
    "\n",
    "#fungsi def adalah kumpulan perintah atau baris kode yang dikelompokkan menjadi satu kesatuan untuk kemudian bisa dipanggil atau digunakan berkali-kali\n",
    "#sebuah fungsi def bisa menerima parameter, bisa mengembalikan suatu nilai, dan bisa dipanggil berkali-kali secara independen\n",
    "#dengan fungsi ini kita bisa memecah program besar yang kita tulis, menjadi bagian-bagian kecil dengan tugasnya masing-masing\n",
    "\n",
    "#input variabel first_name dan last_name\n",
    "first_name = input(\"Nama depan anda adalah\")\n",
    "last_name = input(\"Nama belakang anda adalah\")\n",
    "#baris ini akan memblok variabel diatas menjadi sebuah variabel dengan nama full_name\n",
    "def full_name(first_name,last_name):\n",
    "    #baris ini akan menampilkan output dari kode diatas\n",
    "    print(f\"Nama lengkapnya adalah {nama_depam} {nama_belakang}\")"
   ]
  },
  {
   "cell_type": "code",
   "execution_count": 48,
   "id": "2d840739-13fe-4f40-a207-6f52be2ad227",
   "metadata": {},
   "outputs": [
    {
     "name": "stdout",
     "output_type": "stream",
     "text": [
      "50.0\n",
      "False\n"
     ]
    }
   ],
   "source": [
    "#Latihan Fungsi dalam Phyton (2) dengan menggunakan lebih dari satu return \n",
    "\n",
    "#baris ini akan mendefinisikan persentase dengan total,jumlah\n",
    "def persentase (total, jumlah):\n",
    "    #jika total lebih besar atau sama dengan 0 dan total lebih kecil atau sama dengan jumlah\n",
    "  if (total >= 0 and total <= jumlah):\n",
    "    #maka akan mengembalikan nilai total dibagi jumlah dikali 100\n",
    "    return total / jumlah * 100\n",
    "  #maka akan mengembalikan nilai false\n",
    "  return False\n",
    "#baris ini akan menampilkan output dari presentase \n",
    "print(persentase(30, 60))\n",
    "print(persentase(100, 60))"
   ]
  },
  {
   "cell_type": "markdown",
   "id": "bc8dde8d-908a-4876-80eb-6dbbe0a5a59c",
   "metadata": {},
   "source": [
    "***5.19.1 Tugas Fungsi pada Phyton***"
   ]
  },
  {
   "cell_type": "markdown",
   "id": "4c401ef2-a610-4896-824b-5862bacb7978",
   "metadata": {},
   "source": [
    "Ada dua jenis tugas fungsi pada Python yaitu:\n",
    "1. Menjalankan perintah.\n",
    "2. Menampilkan hasil perhitungan"
   ]
  },
  {
   "cell_type": "code",
   "execution_count": 57,
   "id": "9b351753-a5fd-46c7-b87b-8f7eab1ac484",
   "metadata": {},
   "outputs": [
    {
     "name": "stdout",
     "output_type": "stream",
     "text": [
      "Luas segitiga adalah:  17.5\n"
     ]
    }
   ],
   "source": [
    "#Latihan Tugas Fungsi pada phyton (1) yaitu menampilkan jumlah perhitungan\n",
    "\n",
    "#baris ini akan mendefinisikan hitung_luas_segitiga dengan alas dan tinggi\n",
    "def hitung_luas_segitiga():\n",
    "  alas = 5\n",
    "  tinggi = 7\n",
    "    #baris ini akan menghitung luas dengan alas dikali tinggi dibagi 2\n",
    "  luas = (alas * tinggi) / 2\n",
    "#baris ini akan menampilkan output dari luas segitiga \n",
    "  print(\"Luas segitiga adalah: \",luas)\n",
    "   \n",
    "hitung_luas_segitiga()"
   ]
  },
  {
   "cell_type": "code",
   "execution_count": 58,
   "id": "288ef7c3-f254-41f3-98bf-6ed8fcdb89c5",
   "metadata": {},
   "outputs": [
    {
     "name": "stdout",
     "output_type": "stream",
     "text": [
      "3\n"
     ]
    }
   ],
   "source": [
    "#Latihan Tugas Fungsi pada Phyton (2) yaitu menjalankan perintah \n",
    "\n",
    "#inisialisasi variabel \n",
    "x=3\n",
    "#baris ini akan mendefinisikan fungsi ubah dengan x = 5 \n",
    "def ubah():\n",
    "   x=5\n",
    "#baris ini akan mengembalikan nilai x\n",
    "   return x\n",
    "#baris ini akan memanggil fungsi ubah\n",
    "ubah()\n",
    "#baris ini akan menampilkan nilai x\n",
    "print(x)"
   ]
  },
  {
   "cell_type": "code",
   "execution_count": 59,
   "id": "13676864-45d8-4d2f-a193-8802f2742a3f",
   "metadata": {},
   "outputs": [
    {
     "name": "stdin",
     "output_type": "stream",
     "text": [
      "Masukkan panjang deret: 25\n"
     ]
    },
    {
     "name": "stdout",
     "output_type": "stream",
     "text": [
      "[0, 1, 1, 2, 3, 5, 8, 13, 21, 34, 55, 89, 144, 233, 377, 610, 987, 1597, 2584, 4181, 6765, 10946, 17711, 28657, 46368]\n"
     ]
    }
   ],
   "source": [
    "#Latihan Tugas Fungsi pada Phyton (3) yaitu menampilkan hasil perhitungan \n",
    "\n",
    "#baris ini akan mendefinisikan fungsi fibonacci dengan n\n",
    "def fibonacci (n):\n",
    "    #jika n lebih kecil dari 1 maka akan mengembalikan nilai n\n",
    "  if n < 1:\n",
    "    return [n]\n",
    "#baris ini akan menghitung list sebelumN, angka 1, dan angka 2 \n",
    "  listSebelumN = fibonacci(n - 1)\n",
    "  angka1 = listSebelumN[-2] if len(listSebelumN) > 2 else 0\n",
    "  angka2 = listSebelumN[-1] if len(listSebelumN) > 2 else 1\n",
    "#jika panjang list selum n angka1 dan angka2 lebih besar dari 2 maka akan mengembalikan nilai dari list sebelumN, angka 1, dan angka 2\n",
    "  return listSebelumN + [angka1 + angka2]\n",
    "#menginput panjang deret\n",
    "panjang = int(input('Masukkan panjang deret:'))\n",
    "#baris ini akan menampilkan output dari kode diatas, dan mengurangkan panjang dengan 1\n",
    "print(fibonacci(panjang - 1))"
   ]
  },
  {
   "cell_type": "code",
   "execution_count": 61,
   "id": "a4d8eb22-5167-4186-8540-ed5b81de6796",
   "metadata": {},
   "outputs": [
    {
     "name": "stdout",
     "output_type": "stream",
     "text": [
      "Total harga: 50000\n"
     ]
    }
   ],
   "source": [
    "#Latihan Tugas Fungsi pada Phyton (4) yaitu menjalankan perintah\n",
    "\n",
    "#baris ini akan mendefinikan kalkulator total dengan price dan quatity\n",
    "def calculate_total(price, quantity):\n",
    "    \"\"\"Fungsi untuk menghitung total harga.\n",
    "\n",
    "    Args:\n",
    "        price (int): Harga satuan barang.\n",
    "        quantity (int): Jumlah barang yang dibeli.\n",
    "\n",
    "    Returns:\n",
    "        int: Total harga dari pembelian.\n",
    "\n",
    "    \"\"\"\n",
    "    #baris ini akan menghitung total dengan price dikali quantity dan mengembalikan nilai total\n",
    "    total = price * quantity\n",
    "    return total\n",
    "#inisialisasi variabel\n",
    "harga_barang = 5000\n",
    "jumlah_barang = 10\n",
    "total_harga = calculate_total(harga_barang, jumlah_barang)\n",
    "#baris ini akan menampilkan output dari kode di atas\n",
    "print(f\"Total harga: {total_harga}\")"
   ]
  },
  {
   "cell_type": "code",
   "execution_count": 62,
   "id": "5291a970-a2e6-4050-a71a-9732543806f4",
   "metadata": {},
   "outputs": [
    {
     "name": "stdin",
     "output_type": "stream",
     "text": [
      "Masukkan jari-jari lingkaran:  14\n"
     ]
    },
    {
     "name": "stdout",
     "output_type": "stream",
     "text": [
      "Luas lingkaran dengan jari-jari 14.0 adalah 615.44\n"
     ]
    }
   ],
   "source": [
    "#Latihan Tugas Fungsi Phyton (5) yaitu menampilkan hasil perhitungan \n",
    "\n",
    "#baris ini akan mendefinisikan hitung_luas_lingkaran dengan jari-jari, pi, \n",
    "def hitung_luas_lingkaran(jari_jari):\n",
    "    pi = 3.14\n",
    "    #baris ini akan menghitung luas lingkara dengan pi dikali jari-jari pangkat 2\n",
    "    luas = pi * (jari_jari ** 2)\n",
    "    #baris ini akan mengembalikan nilai luas\n",
    "    return luas\n",
    "#baris ini akan menginput jari-jari\n",
    "jari_jari = float(input(\"Masukkan jari-jari lingkaran: \"))\n",
    "luas = hitung_luas_lingkaran(jari_jari)\n",
    "#baris ini akan menampilkan output dari kode di atas\n",
    "print(f\"Luas lingkaran dengan jari-jari {jari_jari} adalah {luas}\")"
   ]
  },
  {
   "cell_type": "markdown",
   "id": "84398594-83aa-43c8-81c1-4b58eb158d08",
   "metadata": {},
   "source": [
    "***5.20 Numpy***"
   ]
  },
  {
   "cell_type": "markdown",
   "id": "af266775-c810-47e8-8869-cef32f6ef534",
   "metadata": {},
   "source": [
    "Numpy merupakan salah satu Library dalam Python yang memiliki keunggulan\n",
    "dalam perhitungan menggunakan vektor dam matrik dalam berbagai dimensi. Hal pertama yang perlu dilakukan adalah memanggil Library Numpy sebagai\n",
    "berikut:"
   ]
  },
  {
   "cell_type": "code",
   "execution_count": 74,
   "id": "d588b1a2-c67e-4294-b319-319c5c14bfbc",
   "metadata": {},
   "outputs": [],
   "source": [
    "import numpy as np"
   ]
  },
  {
   "cell_type": "markdown",
   "id": "b35fc0a3-ca1f-42e9-b626-afd04222dbdc",
   "metadata": {},
   "source": [
    "***5.20.1 Perintah Dasar pada Numpy***"
   ]
  },
  {
   "cell_type": "code",
   "execution_count": 76,
   "id": "a8cfcb07-063c-455f-b116-c3eaadf65e21",
   "metadata": {},
   "outputs": [
    {
     "name": "stdout",
     "output_type": "stream",
     "text": [
      "[1 2 3 4 5 6 7]\n"
     ]
    }
   ],
   "source": [
    "#Latihan Perintah Dasar pada Phyton (1) dengan satu item\n",
    "\n",
    "#inisialisasi variabel \n",
    "a = np.array([1, 2, 3, 4, 5, 6, 7])\n",
    "#baris ini akan menampilkan output dari variabel a\n",
    "print(a)"
   ]
  },
  {
   "cell_type": "code",
   "execution_count": 80,
   "id": "35f51e84-ceb0-4d55-a5b2-e214360bb332",
   "metadata": {},
   "outputs": [
    {
     "name": "stdout",
     "output_type": "stream",
     "text": [
      "[[2 4 6 8]\n",
      " [1 3 5 9]]\n"
     ]
    }
   ],
   "source": [
    "#Latihan Perintah Dasar pada Phyton (2) dengan menggunakan dua item \n",
    "\n",
    "#inisialisasi variabel \n",
    "x = np.array([[2, 4, 6, 8],[1, 3, 5, 9]])\n",
    "#baris ini akan menampilkan output dari variabel x \n",
    "print(x)"
   ]
  },
  {
   "cell_type": "code",
   "execution_count": 82,
   "id": "353f167e-7e48-4fcb-aeef-4efebfb5bcb2",
   "metadata": {},
   "outputs": [
    {
     "name": "stdout",
     "output_type": "stream",
     "text": [
      "[[[11 12 13 14]\n",
      "  [ 4  5  6  7]]\n",
      "\n",
      " [[ 3  6  9  4]\n",
      "  [ 1  8  0  2]]\n",
      "\n",
      " [[ 0  8  5  2]\n",
      "  [ 5  7  1  3]]]\n"
     ]
    }
   ],
   "source": [
    "#Latihan Perintah Dasar pada Phyton (3) dengan menggunakan tiga item\n",
    "\n",
    "#inisialisasi variabel \n",
    "c = np.array([[[11,12,13,14],[4,5,6,7]],\n",
    "              [[3,6,9,4],[1,8,0,2]],\n",
    "              [[0,8,5,2],[5,7,1,3]]])\n",
    "#baris ini akan menampilkan output dari variabel c\n",
    "print(c)            "
   ]
  },
  {
   "cell_type": "code",
   "execution_count": 84,
   "id": "df48cc1b-d7a2-46e2-8511-534c89b1d9e1",
   "metadata": {},
   "outputs": [
    {
     "name": "stdout",
     "output_type": "stream",
     "text": [
      "1\n"
     ]
    }
   ],
   "source": [
    "#Latihan Perintah Dasar pada Phyton (4) dengan menggunakan fungsi ndim\n",
    "\n",
    "#inisialisasi variabel \n",
    "c = np.array([0,1,2,3])\n",
    "#baris ini akan mengembalikan jumlah dimensi array\n",
    "print(c.ndim)"
   ]
  },
  {
   "cell_type": "code",
   "execution_count": 85,
   "id": "c57ff214-2eb9-4d43-97fb-5a6267006de6",
   "metadata": {},
   "outputs": [
    {
     "name": "stdout",
     "output_type": "stream",
     "text": [
      "(4,)\n"
     ]
    }
   ],
   "source": [
    "#Latihan Perintah Dasar pada Phyton (5) dengan menggunakan fungsi shape\n",
    "\n",
    "#insialisasi variabel \n",
    "z = np.array([11,13,15,17])\n",
    "#baris ini akan menemukan bentuk array\n",
    "print(z.shape)"
   ]
  },
  {
   "cell_type": "markdown",
   "id": "5cfb3ee9-ec27-4a4f-ae98-4c00e6b02e83",
   "metadata": {},
   "source": [
    "***5.20.2 Memanggil Anggota, Kolom dan Baris dengan Numpy***"
   ]
  },
  {
   "cell_type": "code",
   "execution_count": 88,
   "id": "8a33ed06-4bc9-402b-a103-ac34748996f5",
   "metadata": {},
   "outputs": [
    {
     "name": "stdout",
     "output_type": "stream",
     "text": [
      "7\n",
      "[2 4 8 6]\n",
      "[ 5  6 36]\n",
      "[3 7]\n",
      "[0 7]\n"
     ]
    }
   ],
   "source": [
    "#Latihan Memanggil Anggota, Kolom dan Baris dengan Numpy (1)\n",
    "\n",
    "#inisialisasi variabel\n",
    "y = np.array([[0,3,7,5],[2,4,8,6],[1,14,21,36]])\n",
    "#baris ini akan menampilkan anggota ke-2 pada baris ke-0 variabel y\n",
    "print(y[0,2])\n",
    "#baris ini akan menampilkan baris ke-1 pada variabel y\n",
    "print(y[1,:])\n",
    "#baris ini akan menampilkan kolom ke-4 pada variabel y\n",
    "print(y[:,3])\n",
    "#baris ini akan menampilkan anggota ke-1 dan ke-4 pada baris ke-0 variabel y\n",
    "print(y[0,1:3])\n",
    "#baris ini akan menampilkan anggota ke-0 dan ke-3 pada baris ke-0 variabel y\n",
    "print(y[0,0:3:2])"
   ]
  },
  {
   "cell_type": "code",
   "execution_count": 90,
   "id": "62748e08-c145-46fd-b206-fe5be0c3c864",
   "metadata": {},
   "outputs": [
    {
     "name": "stdout",
     "output_type": "stream",
     "text": [
      "[[ 0  3 55  5]\n",
      " [ 2  4  8  6]\n",
      " [ 1 14 21 36]]\n"
     ]
    }
   ],
   "source": [
    "#Latihan Memanggil Anggota, Kolom dan Baris (2) dengan mengubah anggota pada variabel \n",
    "\n",
    "#inisialisasi variabel\n",
    "y = np.array([[0,3,7,5],[2,4,8,6],[1,14,21,36]])\n",
    "y[0,2] = 55\n",
    "#baris ini akan menampilkan isi dari variabel y setelah dirubah\n",
    "print(y)"
   ]
  },
  {
   "cell_type": "markdown",
   "id": "69d720d3-8532-4acd-a3b6-19c44448afb3",
   "metadata": {},
   "source": [
    "***5.20.3 Matriks pada Numpy***"
   ]
  },
  {
   "cell_type": "code",
   "execution_count": 92,
   "id": "8a1ea295-3f77-455b-98ab-d0ee04c8f134",
   "metadata": {},
   "outputs": [
    {
     "name": "stdout",
     "output_type": "stream",
     "text": [
      "[[0. 0. 0. 0. 0. 0. 0. 0.]\n",
      " [0. 0. 0. 0. 0. 0. 0. 0.]\n",
      " [0. 0. 0. 0. 0. 0. 0. 0.]\n",
      " [0. 0. 0. 0. 0. 0. 0. 0.]\n",
      " [0. 0. 0. 0. 0. 0. 0. 0.]\n",
      " [0. 0. 0. 0. 0. 0. 0. 0.]\n",
      " [0. 0. 0. 0. 0. 0. 0. 0.]\n",
      " [0. 0. 0. 0. 0. 0. 0. 0.]]\n"
     ]
    }
   ],
   "source": [
    "#Latihan Matriks pada Numpy (1) dengan menggunakan fungsi zeros\n",
    "\n",
    "#inisialisasi variabel\n",
    "a = np.zeros((8,8))\n",
    "#baris ini akan menampilkan output dari kode diatas\n",
    "print(a)"
   ]
  },
  {
   "cell_type": "code",
   "execution_count": 93,
   "id": "c57a0a5e-c6b9-4b48-98eb-2c0e1c1cd3e4",
   "metadata": {},
   "outputs": [
    {
     "name": "stdout",
     "output_type": "stream",
     "text": [
      "[[1. 0. 0. 0. 0. 0. 0. 0.]\n",
      " [0. 1. 0. 0. 0. 0. 0. 0.]\n",
      " [0. 0. 1. 0. 0. 0. 0. 0.]\n",
      " [0. 0. 0. 1. 0. 0. 0. 0.]\n",
      " [0. 0. 0. 0. 1. 0. 0. 0.]\n",
      " [0. 0. 0. 0. 0. 1. 0. 0.]\n",
      " [0. 0. 0. 0. 0. 0. 1. 0.]\n",
      " [0. 0. 0. 0. 0. 0. 0. 1.]]\n"
     ]
    }
   ],
   "source": [
    "#Latihan Matriks pada Numpy (2) dengan menggunakan fungsi identity\n",
    "\n",
    "#inisialisasi variabel \n",
    "b = np.identity(8)\n",
    "#baris ini akan menampilkan output dari kode diatas\n",
    "print(b)"
   ]
  },
  {
   "cell_type": "code",
   "execution_count": 94,
   "id": "6b66e9e7-ee8f-4801-99cc-5125659a7431",
   "metadata": {},
   "outputs": [
    {
     "name": "stdout",
     "output_type": "stream",
     "text": [
      "[[7. 0. 0. 0. 0. 0. 0. 0.]\n",
      " [0. 7. 0. 0. 0. 0. 0. 0.]\n",
      " [0. 0. 7. 0. 0. 0. 0. 0.]\n",
      " [0. 0. 0. 7. 0. 0. 0. 0.]\n",
      " [0. 0. 0. 0. 7. 0. 0. 0.]\n",
      " [0. 0. 0. 0. 0. 7. 0. 0.]\n",
      " [0. 0. 0. 0. 0. 0. 7. 0.]\n",
      " [0. 0. 0. 0. 0. 0. 0. 7.]]\n"
     ]
    }
   ],
   "source": [
    "#latihan Matriks pada Numpy (3) \n",
    "\n",
    "#inisalisasi variabel \n",
    "c = 7*b\n",
    "#baris ini akan menampilkan output dari kode diatas\n",
    "print(c)"
   ]
  },
  {
   "cell_type": "code",
   "execution_count": 95,
   "id": "b23c21bf-f226-427d-bcfc-89645f28eca6",
   "metadata": {},
   "outputs": [
    {
     "name": "stdout",
     "output_type": "stream",
     "text": [
      "[[7. 1. 1. 1. 1. 1.]\n",
      " [1. 7. 1. 1. 1. 1.]\n",
      " [1. 1. 7. 1. 1. 1.]\n",
      " [1. 1. 1. 7. 1. 1.]\n",
      " [1. 1. 1. 1. 7. 1.]\n",
      " [1. 1. 1. 1. 1. 7.]]\n"
     ]
    }
   ],
   "source": [
    "#Latihan Matriks pada Numpy (4)\n",
    "\n",
    "#inisialisasi variabel \n",
    "d = np.ones((6,6))\n",
    "e = np.identity(6)*6\n",
    "f = d + e\n",
    "#baris ini akan menampilkan output dari kode diatas\n",
    "print(f)"
   ]
  },
  {
   "cell_type": "code",
   "execution_count": 96,
   "id": "35e5f461-198f-4031-b1f3-1bcc00bb8f6b",
   "metadata": {},
   "outputs": [
    {
     "name": "stdout",
     "output_type": "stream",
     "text": [
      "[[7. 0. 0. 0. 0. 0. 0. 0.]\n",
      " [0. 7. 1. 1. 1. 1. 1. 0.]\n",
      " [0. 1. 7. 1. 1. 1. 1. 0.]\n",
      " [0. 1. 1. 7. 1. 1. 1. 0.]\n",
      " [0. 1. 1. 1. 7. 1. 1. 0.]\n",
      " [0. 1. 1. 1. 1. 7. 1. 0.]\n",
      " [0. 1. 1. 1. 1. 1. 7. 0.]\n",
      " [0. 0. 0. 0. 0. 0. 0. 7.]]\n"
     ]
    }
   ],
   "source": [
    "#Latihan Matriks pada Numpy (5)\n",
    "\n",
    "#inisialisasi variabel \n",
    "c[1:-1,1:-1] = f\n",
    "#baris ini akan menampilkan output dari kode diatas\n",
    "print(c)"
   ]
  },
  {
   "cell_type": "markdown",
   "id": "2f1751f0-c233-4e4a-9b21-4e4301a0aff9",
   "metadata": {},
   "source": [
    "***5.20.4 Copy pada Numpy***"
   ]
  },
  {
   "cell_type": "code",
   "execution_count": 99,
   "id": "8b9385c1-e3a1-4aff-a493-4d394e97d0bf",
   "metadata": {},
   "outputs": [
    {
     "name": "stdout",
     "output_type": "stream",
     "text": [
      "[ 2  4  6  8 10]\n",
      "[ 2  4  6  8 10]\n"
     ]
    }
   ],
   "source": [
    "#Latihan Copy pada Numpy (1)\n",
    "\n",
    "#inisialisasi variabel \n",
    "a = np.array([2,4,6,8,10])\n",
    "#baris ini akan menampilkan elemen dari variabel a\n",
    "print(a)\n",
    "#baris ini akan menginisialisasi b sama dengan a\n",
    "b = a\n",
    "#baris ini akan menampilkan elemen dari variabel b\n",
    "print(b)"
   ]
  },
  {
   "cell_type": "code",
   "execution_count": 101,
   "id": "0ca8f013-b58f-4e92-9e3d-8a9f10f3c886",
   "metadata": {},
   "outputs": [
    {
     "name": "stdout",
     "output_type": "stream",
     "text": [
      "[1 3 5 7 9]\n",
      "[1 3 5 7 9]\n"
     ]
    }
   ],
   "source": [
    "#Latihan Copy pada Numpy (2)\n",
    "\n",
    "#inisialisasi variabel \n",
    "c = np.array([1,3,5,7,9])\n",
    "#baris ini akan menampilkan elemen dari variabel c\n",
    "print(c)\n",
    "#baris ini akan mengcopy variabel c agar menghindari variabel awal yang tidak dikehendaki maka menggunakan perintah copy\n",
    "d = c.copy()\n",
    "#baris ini akan menampilkan elemen dari variabel d\n",
    "print(d)"
   ]
  },
  {
   "cell_type": "markdown",
   "id": "31bdd570-533a-4fe8-a426-a3bbcc88dd74",
   "metadata": {},
   "source": [
    "***5.20.5 Operasi Matematika pada Numpy***"
   ]
  },
  {
   "cell_type": "code",
   "execution_count": 103,
   "id": "0e609cdf-4858-46a9-b731-737b6fb89ade",
   "metadata": {},
   "outputs": [
    {
     "name": "stdout",
     "output_type": "stream",
     "text": [
      "[6 5 4 3]\n",
      "[3 2 1 0]\n",
      "[12  9  6  3]\n",
      "[2.  1.5 1.  0.5]\n",
      "[64 27  8  1]\n"
     ]
    }
   ],
   "source": [
    "#Latihan Operasi Matematika pada Numpy (1) dengan menggunakan penjumlahan,pengurangan,perkalian,pembagian,pemangkatan pada bilangan bulat\n",
    "\n",
    "#inisialisasi variabel\n",
    "x = np.array([4,3,2,1])\n",
    "#baris ini akan menjumlahkan variabel x dengan 2\n",
    "print(x + 2)\n",
    "#baris ini akan mengurangi variabel x dengan 1\n",
    "print(x - 1)\n",
    "#baris ini akan mengalikan variabel x dengan 3\n",
    "print(x * 3)\n",
    "#baris ini akan membagi variabel x dengan 2 \n",
    "print(x/2)\n",
    "#baris ini akan mempangkatkan variabel x \n",
    "print(x**3)"
   ]
  },
  {
   "cell_type": "code",
   "execution_count": 104,
   "id": "8614d300-644f-4c39-b796-4a2b0101f0b4",
   "metadata": {},
   "outputs": [
    {
     "name": "stdout",
     "output_type": "stream",
     "text": [
      "[13 11  9  7]\n",
      "[-5 -5 -5 -5]\n",
      "[36 24 14  6]\n",
      "[0.44444444 0.375      0.28571429 0.16666667]\n",
      "[6561  512   49    6]\n"
     ]
    }
   ],
   "source": [
    "#Latihan Operasi pada Numpy (2) dengan penjumlahan,pengurangan,pembagian,perkalian, dan pemangkatan dengan variabel yang berbeda\n",
    "\n",
    "#inisialisasi variabel\n",
    "x = np.array([4,3,2,1])\n",
    "y = np.array([9,8,7,6])\n",
    "#baris ini akan menjumlahkan variabel x dengan y\n",
    "print(x + y)\n",
    "#baris ini akan mengurangi variabel x dengan y\n",
    "print(x - y)\n",
    "#baris ini akan mengalikan variabel x dengan y\n",
    "print(x * y)\n",
    "#baris ini akan membagi variabel x dengan y\n",
    "print(x/y)\n",
    "#baris ini akan mempangkatkan variabel y dengan x \n",
    "print(y**x)"
   ]
  },
  {
   "cell_type": "code",
   "execution_count": 106,
   "id": "aa06f38a-fd1b-42cb-8a36-b21341fd8cd9",
   "metadata": {},
   "outputs": [
    {
     "name": "stdout",
     "output_type": "stream",
     "text": [
      "[-0.65364362 -0.41614684  0.28366219]\n",
      "[0.84147098 0.14112001 0.90929743]\n",
      "[-0.45231566  1.55740772  0.        ]\n",
      "[2.64575131 2.82842712 1.        ]\n"
     ]
    }
   ],
   "source": [
    "#Latihan Operasi pada Numpy (3) dengan cos,tan,sin dan sqrt\n",
    "\n",
    "#inisialisasi variabel \n",
    "a = np.cos([4,2,5])\n",
    "b = np.sin([1,3,2])\n",
    "c = np.tan([9,1,0])\n",
    "d = np.sqrt([7,8,1])\n",
    "#baris ini akan menampilkan ouput dari kode diatas\n",
    "print(a)\n",
    "print(b)\n",
    "print(c)\n",
    "print(d)"
   ]
  },
  {
   "cell_type": "markdown",
   "id": "5e2f554d-9b7c-484f-b6b1-daa79fa297c4",
   "metadata": {},
   "source": [
    "***5.20.6 Perkalian Matrik pada Numpy***"
   ]
  },
  {
   "cell_type": "code",
   "execution_count": 107,
   "id": "168bb65b-5deb-41f5-bd18-e11b4e52f296",
   "metadata": {},
   "outputs": [
    {
     "name": "stdout",
     "output_type": "stream",
     "text": [
      "[14 12  0  6]\n"
     ]
    }
   ],
   "source": [
    "#Latihan Perkalian Matrik pada Numpy (1) dengan metode biasa \n",
    "\n",
    "#inisialisasi variabel \n",
    "a = np.array([7,3,0,1])\n",
    "b = np.array([2,4,8,6])\n",
    "c = a*b\n",
    "#baris ini akan menampilkan output dari kode diatas\n",
    "print(c)"
   ]
  },
  {
   "cell_type": "code",
   "execution_count": 108,
   "id": "3ad160ff-f477-463e-a391-4c9269269a9b",
   "metadata": {},
   "outputs": [
    {
     "name": "stdout",
     "output_type": "stream",
     "text": [
      "85\n"
     ]
    }
   ],
   "source": [
    "#Latihan Perkalian Matrik pada Numpy (2) dengan menggunakan perintah matmul\n",
    "\n",
    "#inisialisasi variabel \n",
    "x = np.array([2,5,9,0])\n",
    "y = np.array([1,4,7,3])\n",
    "e = np.matmul(x,y)\n",
    "#baris ini akan menampilkan output dari kode diatas \n",
    "print(e)"
   ]
  },
  {
   "cell_type": "markdown",
   "id": "c83a2b87-6d3b-43dc-b3c2-f82161d10684",
   "metadata": {},
   "source": [
    "***5.20.7 Min, Max, dan Sum pada Numpy***"
   ]
  },
  {
   "cell_type": "code",
   "execution_count": 109,
   "id": "4d72a9d1-a803-491d-8f68-c0d912b12e82",
   "metadata": {},
   "outputs": [
    {
     "name": "stdout",
     "output_type": "stream",
     "text": [
      "[[[11 12 13 14]\n",
      "  [ 4  5  6  7]]\n",
      "\n",
      " [[ 3  6  9  4]\n",
      "  [ 1  8  0  2]]\n",
      "\n",
      " [[ 0  8  5  2]\n",
      "  [ 5  7  1  3]]]\n",
      "0\n",
      "0\n",
      "136\n"
     ]
    }
   ],
   "source": [
    "#Latihan Min, Max, dan Sum pada Numpy (1) \n",
    "\n",
    "#inisialisasi variabel\n",
    "c = np.array([[[11,12,13,14],[4,5,6,7]],\n",
    "              [[3,6,9,4],[1,8,0,2]],\n",
    "              [[0,8,5,2],[5,7,1,3]]])\n",
    "#baris ini akan menampilkan elemen dari variabel c\n",
    "print(c)\n",
    "\n",
    "#baris ini akan menginisialisasi variabel \n",
    "b = np.min(c)\n",
    "#baris ini akan menampilkan output dari kode diatas\n",
    "print(b)\n",
    "#baris ini akan menginisialisasi variabel \n",
    "d = np.max(b)\n",
    "#baris ini akan menampilkan output dari kode diatas\n",
    "print(d)\n",
    "#baris ini akan menginisialisasi variabel \n",
    "e = np.sum(c)\n",
    "#baris ini akan menampilkan output dari kode diatas \n",
    "print(e)"
   ]
  },
  {
   "cell_type": "code",
   "execution_count": 110,
   "id": "65e0e361-fa75-4b1e-9809-88dc4e22680d",
   "metadata": {},
   "outputs": [
    {
     "name": "stdout",
     "output_type": "stream",
     "text": [
      "[[11 12 13 14]\n",
      " [ 5  8  6  7]]\n",
      "[50 26]\n",
      "[[0 6 5 2]\n",
      " [1 5 0 2]]\n"
     ]
    }
   ],
   "source": [
    "#Latihan Min, Max, dan Sum pada Numpy (2) \n",
    "\n",
    "#inisialisasi variabel\n",
    "c = np.array([[[11,12,13,14],[4,5,6,7]],\n",
    "              [[3,6,9,4],[1,8,0,2]],\n",
    "              [[0,8,5,2],[5,7,1,3]]])\n",
    "f = np.max(c,axis=0)\n",
    "g = np.sum(f,axis=1)\n",
    "h = np.min(c,axis=0)\n",
    "#baris ini akan menampilkan output dari kode diatas\n",
    "print(f)\n",
    "print(g)\n",
    "print(h)"
   ]
  }
 ],
 "metadata": {
  "kernelspec": {
   "display_name": "Python 3 (ipykernel)",
   "language": "python",
   "name": "python3"
  },
  "language_info": {
   "codemirror_mode": {
    "name": "ipython",
    "version": 3
   },
   "file_extension": ".py",
   "mimetype": "text/x-python",
   "name": "python",
   "nbconvert_exporter": "python",
   "pygments_lexer": "ipython3",
   "version": "3.9.13"
  }
 },
 "nbformat": 4,
 "nbformat_minor": 5
}
