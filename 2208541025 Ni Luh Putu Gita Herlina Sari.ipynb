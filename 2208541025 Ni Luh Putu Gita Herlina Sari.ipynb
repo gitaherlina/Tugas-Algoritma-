{
 "cells": [
  {
   "cell_type": "code",
   "execution_count": 1,
   "id": "f15db841",
   "metadata": {},
   "outputs": [
    {
     "name": "stdout",
     "output_type": "stream",
     "text": [
      "10 * 5 + 13 - 0 = 63\n"
     ]
    }
   ],
   "source": [
    "#nilai variable a,b,c, dan d diinsialisasi dengan nilai masing - masing 10,5,13 dan 0.\n",
    "a = 10\n",
    "b = 5\n",
    "c = 13\n",
    "d = 0\n",
    "#fungsi print digunakan untuk mencetak string yang terdiri dari empat nilai variable dan tiga operator matematika.\n",
    "print(a,'*', b, '+', c, '-', d, '=', a * b + c - d)"
   ]
  },
  {
   "cell_type": "code",
   "execution_count": 2,
   "id": "c569daa0",
   "metadata": {},
   "outputs": [
    {
     "name": "stdout",
     "output_type": "stream",
     "text": [
      "Joko dan Joni\n",
      "Joni dan Joko\n"
     ]
    }
   ],
   "source": [
    "#fungsi print menampilkan teks \"Joko dan Joni pada konsol dan format string '{}' dan '{}' akan diisi dengan nilai 'Joko' dan 'Joni' pada urutan pertama dan kedua.\n",
    "print('{} dan {}'.format('Joko', 'Joni'))\n",
    "#format string menggunakan indeks untuk menentukan urutan pengisian nilai pada string format.'{1}' akan diisi dengan nilai 'Joni' pada urutan pertama dan '{0}' akan diisi nilai 'Joko' pada urutan kedua.\n",
    "print('{1} dan {0}'.format('Joko', 'Joni'))"
   ]
  },
  {
   "cell_type": "code",
   "execution_count": 3,
   "id": "f55d4c8e",
   "metadata": {},
   "outputs": [
    {
     "ename": "NameError",
     "evalue": "name 'end' is not defined",
     "output_type": "error",
     "traceback": [
      "\u001b[1;31m---------------------------------------------------------------------------\u001b[0m",
      "\u001b[1;31mNameError\u001b[0m                                 Traceback (most recent call last)",
      "\u001b[1;32m~\\AppData\\Local\\Temp\\ipykernel_11664\\3152102350.py\u001b[0m in \u001b[0;36m<module>\u001b[1;34m\u001b[0m\n\u001b[1;32m----> 1\u001b[1;33m \u001b[0mprint\u001b[0m\u001b[1;33m(\u001b[0m\u001b[1;34m\"gita : Hello mama\"\u001b[0m\u001b[1;33m,\u001b[0m \u001b[0mend\u001b[0m\u001b[1;33m)\u001b[0m\u001b[1;33m\u001b[0m\u001b[1;33m\u001b[0m\u001b[0m\n\u001b[0m\u001b[0;32m      2\u001b[0m \u001b[0mprint\u001b[0m\u001b[1;33m(\u001b[0m\u001b[1;34m\"mama : Hello dear\"\u001b[0m\u001b[1;33m,\u001b[0m \u001b[0mend\u001b[0m\u001b[1;33m)\u001b[0m\u001b[1;33m\u001b[0m\u001b[1;33m\u001b[0m\u001b[0m\n\u001b[0;32m      3\u001b[0m \u001b[0mprint\u001b[0m\u001b[1;33m(\u001b[0m\u001b[1;34m\"mama : How are you\"\u001b[0m\u001b[1;33m,\u001b[0m \u001b[0mend\u001b[0m \u001b[1;33m=\u001b[0m\u001b[1;34m\"?\"\u001b[0m\u001b[1;33m)\u001b[0m\u001b[1;33m\u001b[0m\u001b[1;33m\u001b[0m\u001b[0m\n\u001b[0;32m      4\u001b[0m \u001b[0mprint\u001b[0m\u001b[1;33m(\u001b[0m\u001b[1;34m\"gita : Iam fine mama\"\u001b[0m\u001b[1;33m,\u001b[0m \u001b[0mend\u001b[0m\u001b[1;33m)\u001b[0m\u001b[1;33m\u001b[0m\u001b[1;33m\u001b[0m\u001b[0m\n\u001b[0;32m      5\u001b[0m \u001b[0mprint\u001b[0m\u001b[1;33m(\u001b[0m\u001b[1;34m\"gita : How abou you\"\u001b[0m\u001b[1;33m,\u001b[0m \u001b[0mend\u001b[0m \u001b[1;33m=\u001b[0m\u001b[1;34m\"?\"\u001b[0m\u001b[1;33m)\u001b[0m\u001b[1;33m\u001b[0m\u001b[1;33m\u001b[0m\u001b[0m\n",
      "\u001b[1;31mNameError\u001b[0m: name 'end' is not defined"
     ]
    }
   ],
   "source": [
    "print(\"gita : Hello mama\", end)\n",
    "print(\"mama : Hello dear\", end)\n",
    "print(\"mama : How are you\", end =\"?\")\n",
    "print(\"gita : Iam fine mama\", end)\n",
    "print(\"gita : How abou you\", end =\"?\")\n",
    "print(\"mama : Iam okay dear\", end)\n",
    "print(\"mama : let's eat together\", end)\n",
    "print(\"okay ma\", end)\n",
    "#kode diatas salah karena terdapat beberapa kesalahan dalam syntax yaitu pada baris pertama, kedua, keempat, kelima, keenam, dan terakhir dalam fungsi print() tidak diikuti dengan tanda sama dengan dan nilai."
   ]
  },
  {
   "cell_type": "code",
   "execution_count": 4,
   "id": "a6f6c3a6",
   "metadata": {},
   "outputs": [
    {
     "name": "stdout",
     "output_type": "stream",
     "text": [
      "gita : Hello mamamama : Hello dearmama : How are you?gita : Iam fine mamagita : How abou you?mama : Iam okay dearmama : let's eat togetherokay ma"
     ]
    }
   ],
   "source": [
    "#fungsi print digunakan untuk menampilkan percakapan antara \"gita\" dan \"mama\". \n",
    "#parameter \"end\" yang diberikan dalam setiap panggilan print digunakan untuk mengatur karakter yang ditampilkan setelah setiap teks dicetak.\n",
    "print(\"gita : Hello mama\", end =\"\")\n",
    "print(\"mama : Hello dear\", end =\"\")\n",
    "print(\"mama : How are you\", end =\"?\")\n",
    "print(\"gita : Iam fine mama\", end =\"\")\n",
    "print(\"gita : How abou you\", end =\"?\")\n",
    "print(\"mama : Iam okay dear\", end =\"\")\n",
    "print(\"mama : let's eat together\", end =\"\")\n",
    "print(\"okay ma\", end =\"\")\n",
    "#karakter kosong \"\" digunakan agar setiap teks yang dicetak tanpa karakter baru atau spasi tambahan."
   ]
  },
  {
   "cell_type": "code",
   "execution_count": 5,
   "id": "118b609d",
   "metadata": {},
   "outputs": [
    {
     "name": "stdout",
     "output_type": "stream",
     "text": [
      "gita : Hello mama\n",
      "mama : Hello dear\n",
      "mama : How are you?Iam fine mama\n",
      "gita : How abou you?Iam okay dear\n",
      "mama : let's eat together\n",
      "gita : okay ma\n"
     ]
    }
   ],
   "source": [
    "#fungsi print digunakan untuk menampilkan percakapan antara \"gita\" dan \"mama\". \n",
    "print(\"gita : Hello mama\")\n",
    "print(\"mama : Hello dear\")\n",
    "print(\"mama : How are you\", end =\"?\")\n",
    "print(\"Iam fine mama\")\n",
    "print(\"gita : How abou you\", end =\"?\")\n",
    "print(\"Iam okay dear\")\n",
    "print(\"mama : let's eat together\")\n",
    "print(\"gita : okay ma\")\n",
    "#parameter 'end' menentukan karakter yang digunakan untuk mengakhiri teks yang ditampilkan(dalam kode diatas adalah tanda tanya \"?\")"
   ]
  },
  {
   "cell_type": "code",
   "execution_count": 6,
   "id": "97db8435",
   "metadata": {},
   "outputs": [
    {
     "name": "stdout",
     "output_type": "stream",
     "text": [
      "21\n"
     ]
    }
   ],
   "source": [
    "#fungsi print digunakan untuk menampilkan hasil perhitungan jumlah kemunculan karakter \"a\" pada kalimat yang disimpan dalam variable \"kalimat\".\n",
    "kalimat = \"Negara Indonesia adalah negara kepulauan yang terdiri atas pulau - pulau yang dibatasi oleh laut dan selat\" \n",
    "#'count' dipanggil pada string dengan argumen karakter \"a\" yang akan menghitung jumlah kemnculan karakter \"a\" pada string.  \n",
    "print(kalimat.count(\"a\"))"
   ]
  },
  {
   "cell_type": "code",
   "execution_count": 7,
   "id": "15f20b9b",
   "metadata": {},
   "outputs": [
    {
     "name": "stdout",
     "output_type": "stream",
     "text": [
      "Hei, Selamat ulang tahun, ya! Semoga kuliahnya diberikan kelancaran dan rezekinya diperbanyak oleh Tuhan\n",
      "\n",
      "\n",
      "\n",
      "\n",
      "From Melati\n"
     ]
    }
   ],
   "source": [
    "#baris pertama untuk mencetak ucapan selamat ulang tahun. \n",
    "print(\"Hei, Selamat ulang tahun, ya! Semoga kuliahnya diberikan kelancaran dan rezekinya diperbanyak oleh Tuhan\")\n",
    "#baris kedua untuk mencetak tiga baris kosong(\"\\n\") adalah karakter khusus yang mempresentasikan baris baru.\n",
    "print(3 * \"\\n\")\n",
    "# baris ketiga untuk mencetakan nama penulisnya. \n",
    "print(\"From Melati\")"
   ]
  },
  {
   "cell_type": "code",
   "execution_count": 8,
   "id": "a339a614",
   "metadata": {},
   "outputs": [
    {
     "name": "stdout",
     "output_type": "stream",
     "text": [
      "panjang ruangan adalah 10 meter\n",
      "Lebar ruangan adalah 5 meter\n",
      "Tinggi ruangan adalah 4 meter\n",
      "Volume ruangan adalah 200 meter kubik\n"
     ]
    }
   ],
   "source": [
    "#nilai variable panjang, lebar, dan tinggi diinsialisasi dengan nilai masing - masing 10,5, dan 4.\n",
    "panjang = 10 \n",
    "lebar = 5\n",
    "tinggi = 4\n",
    "\n",
    "#fungsi print dipanggil untuk menampilkan ketiga variabel.\n",
    "print(\"panjang ruangan adalah\", panjang, \"meter\")\n",
    "print(\"Lebar ruangan adalah\", lebar, \"meter\")\n",
    "print(\"Tinggi ruangan adalah\", tinggi, \"meter\")\n",
    "\n",
    "#hasil perhitungan volume dicetak menggunakan fungsi print dengan mengalikan panjang, lebar, dan tinggi.\n",
    "volume = panjang * lebar * tinggi \n",
    "print(\"Volume ruangan adalah\", volume, \"meter kubik\")"
   ]
  },
  {
   "cell_type": "code",
   "execution_count": 9,
   "id": "e05c9055",
   "metadata": {},
   "outputs": [
    {
     "name": "stdout",
     "output_type": "stream",
     "text": [
      "Harga satuan buku: Rp 50000\n",
      "Jumlah buku yang dibeli:  15 buah\n",
      "Diskon:  10.0 %\n",
      "Total Harga: Rp 675000.0\n"
     ]
    }
   ],
   "source": [
    "#nilai variable harga_buku, jumlah_buku, dan diskon diinsialisasi dengan nilai masing - masing 50000, 15, dan 0,1\n",
    "harga_buku = 50000\n",
    "jumlah_buku = 15\n",
    "diskon = 0.1 \n",
    "\n",
    "#fungsi print dipanggil untuk menampilkan ketiga variabel. \n",
    "print(\"Harga satuan buku: Rp\", harga_buku)\n",
    "print(\"Jumlah buku yang dibeli: \", jumlah_buku, \"buah\")\n",
    "print(\"Diskon: \", diskon*100, \"%\")\n",
    "#hasil perhitungan total harga dicetak menggunakan fungsi print dengan mengalikan harga satuan buku dengan jumlah buku, lalu mengurangi diskon dari total harga tersebut.\n",
    "print(\"Total Harga: Rp\", (harga_buku*jumlah_buku)*(1-diskon))"
   ]
  },
  {
   "cell_type": "code",
   "execution_count": 10,
   "id": "48fdc84e",
   "metadata": {},
   "outputs": [
    {
     "name": "stdout",
     "output_type": "stream",
     "text": [
      "Nama: Krisna\n",
      "Umur: 20\n",
      "Tinggi: 177 cm\n",
      "Lahir pada tahun 2003\n"
     ]
    }
   ],
   "source": [
    "#nilai variable nama, umur, dan tinggi diinsialisasi dengan nilai masing - masing krisna, 20, dan 177.\n",
    "nama = \"Krisna\"\n",
    "umur = 20 \n",
    "tinggi = 177\n",
    "\n",
    "#fungsi print dipanggil untuk menampilkan ketiga variabel. \n",
    "print(\"Nama:\", nama)\n",
    "print(\"Umur:\", umur)\n",
    "print(\"Tinggi:\", tinggi, \"cm\")\n",
    "#fungsi print dipanggil pada baris terakhir untuk menghitung tahun kelahiran dengan mengurangi umur dari tahun sekara, yaitu 2023 dengan operasi aritmatika.\n",
    "print(\"Lahir pada tahun\", 2023 - umur)"
   ]
  },
  {
   "cell_type": "code",
   "execution_count": 11,
   "id": "e031b20b",
   "metadata": {},
   "outputs": [
    {
     "name": "stdout",
     "output_type": "stream",
     "text": [
      "Atha : Hi Andi\n",
      "Andi : Hi Atha\n",
      "Atha : How are you doing?\n",
      "Andi : I'm doing well, thank you for asking.\n",
      "Atha : That's great to hear!\n",
      "Andi : How about you? How are you doing?\n",
      "Atha : I'm doing well too, thanks for asking.\n",
      "Atha : What have you been up to lately?\n",
      "Andi : I've been busy with work, but otherwise things are good.\n",
      "Atha : That's good to hear. We should catch up more often.\n",
      "Andi : Yeah, definitely. Let's plan on getting together soon.\n"
     ]
    }
   ],
   "source": [
    "#nilai variable nama1 dan nama2 diinsialisasi dengan masing - masing nama orang yang terlibat dalam percakapan.\n",
    "nama1 = \"Atha\"\n",
    "nama2 = \"Andi\"\n",
    "\n",
    "#fungsi print dipanggil untuk menampilkan teks yang merupakan bagian dari percakapan, diikuti oleh tanda \":\" dan teks yang merujuk pada orang yang sedang berbicara. \n",
    "print(nama1, \": Hi\", nama2)\n",
    "print(nama2, \": Hi\", nama1)\n",
    "#tanda end =\"?\" dan end =\"!\" diganti untuk mengganti tanda newline (\"\\n\") dengan tanda (\"?\") agar pertanyaan dan jawaban dalam percakapan terlihat baik secara format.\n",
    "print(nama1, \": How are you doing?\")\n",
    "print(nama2, \": I'm doing well, thank you for asking.\")\n",
    "print(nama1, \": That's great to hear!\")\n",
    "print(nama2, \": How about you? How are you doing?\")\n",
    "print(nama1, \": I'm doing well too, thanks for asking.\")\n",
    "print(nama1, \": What have you been up to lately?\")\n",
    "print(nama2, \": I've been busy with work, but otherwise things are good.\")\n",
    "print(nama1, \": That's good to hear. We should catch up more often.\")\n",
    "print(nama2, \": Yeah, definitely. Let's plan on getting together soon.\")\n"
   ]
  },
  {
   "cell_type": "code",
   "execution_count": 12,
   "id": "7638ec10",
   "metadata": {},
   "outputs": [
    {
     "name": "stdout",
     "output_type": "stream",
     "text": [
      "Nama lengkap: Deta Pradnyana Putra\n",
      "Umur: 12\n"
     ]
    }
   ],
   "source": [
    "nama_depan = \"Deta\"\n",
    "nama_tengah = \"Pradnyana\"\n",
    "nama_belakang = \"Putra\"\n",
    "umur = 12\n",
    "\n",
    "#fungsi print dipanggil untuk menampilkan nama lengkap dengan menggabungkan nama_depan, nama_tengah, dan nama_belakang.\n",
    "print(\"Nama lengkap: \" + nama_depan + \" \" + nama_tengah + \" \" + nama_belakang)\n",
    "#fungsi str digunakan untuk mengubah nilai numerik menjadi string agar bisa dicetak bersamaan dengan teks. \n",
    "print(\"Umur: \" + str(umur))\n"
   ]
  },
  {
   "cell_type": "code",
   "execution_count": 13,
   "id": "52c5fbe0",
   "metadata": {},
   "outputs": [
    {
     "name": "stdout",
     "output_type": "stream",
     "text": [
      "masukkan panjang persegi panjang: 10\n",
      "masukkan lebar persegi panjang: 8\n",
      "Luas persegi panjang adalah 80\n"
     ]
    }
   ],
   "source": [
    "#menginput panjang dan lebar \n",
    "panjang = input('masukkan panjang persegi panjang: ')\n",
    "lebar = input('masukkan lebar persegi panjang: ')\n",
    "\n",
    "#menghitung luas persegi panjang dengan fungsi int\n",
    "luas = int(panjang) * int(lebar)\n",
    "#hasil luas persegi panjang\n",
    "print('Luas persegi panjang adalah ' + str(luas))\n"
   ]
  },
  {
   "cell_type": "code",
   "execution_count": 14,
   "id": "04dc8c66",
   "metadata": {},
   "outputs": [
    {
     "name": "stdout",
     "output_type": "stream",
     "text": [
      "harga barang yang ingin saya beli adalah 54870\n",
      "jumlah uang yang saya miliki adalah 100000\n",
      "Kembalian yang saya terima adalah 45130\n"
     ]
    }
   ],
   "source": [
    "#menginput harga_barang dan uang_pembayaran\n",
    "harga_barang = input('harga barang yang ingin saya beli adalah ')\n",
    "uang_pembayaran = input('jumlah uang yang saya miliki adalah ')\n",
    "\n",
    "#menghitung kembalian dengan fungsi int\n",
    "kembalian = int(uang_pembayaran) - int(harga_barang)\n",
    "#hasil kembalian yang saya terima adalah \n",
    "print('Kembalian yang saya terima adalah ' + str(kembalian))\n"
   ]
  },
  {
   "cell_type": "code",
   "execution_count": 15,
   "id": "943df3c0",
   "metadata": {},
   "outputs": [
    {
     "name": "stdout",
     "output_type": "stream",
     "text": [
      "Berapa umur Anda? 19\n",
      "Berapa tinggi badan Anda (dalam cm)? 165\n",
      "Berapa berat badan Anda (dalam kg)? 49\n",
      "Umur: 19\n",
      "Tinggi: 165 cm\n",
      "Berat: 49 kg\n",
      "BMI Anda: 17.99816345270891\n"
     ]
    }
   ],
   "source": [
    "#menginput umur, tinggi, dan berat\n",
    "umur = input('Berapa umur Anda? ')\n",
    "tinggi = input('Berapa tinggi badan Anda (dalam cm)? ')\n",
    "berat = input('Berapa berat badan Anda (dalam kg)? ')\n",
    "\n",
    "#meghitung BMI dengan menggunakan fungsi float\n",
    "bmi = float(berat) / ((float(tinggi) / 100) ** 2)\n",
    "\n",
    "#fungsi print menampilkan umur, tinggi, berat dan hasil BMI\n",
    "print('Umur: ' + umur)\n",
    "print('Tinggi: ' + tinggi + ' cm')\n",
    "print('Berat: ' + berat + ' kg')\n",
    "print('BMI Anda: ' + str(bmi))\n"
   ]
  },
  {
   "cell_type": "code",
   "execution_count": 16,
   "id": "221447f6",
   "metadata": {},
   "outputs": [
    {
     "name": "stdout",
     "output_type": "stream",
     "text": [
      "Masukkan bilangan pertama: 12\n",
      "Masukkan bilangan kedua: 26\n",
      "Hasil penjumlahan dari 12 + 26 adalah 38\n"
     ]
    }
   ],
   "source": [
    "#mendefinisikan fungsi untuk kalkulasi\n",
    "def penjumlahan(a, b):\n",
    "    hasil = int(a) + int(b)\n",
    "    return hasil\n",
    "\n",
    "#meminta inputan pengguna\n",
    "bilangan1 = input(\"Masukkan bilangan pertama: \")\n",
    "bilangan2 = input(\"Masukkan bilangan kedua: \")\n",
    "\n",
    "#memanggil fungsi penjumlahan\n",
    "hasil_penjumlahan = penjumlahan(bilangan1, bilangan2)\n",
    "\n",
    "#cetak hasil penjumlahan\n",
    "print(\"Hasil penjumlahan dari\", bilangan1, \"+\", bilangan2, \"adalah\", hasil_penjumlahan)\n"
   ]
  },
  {
   "cell_type": "code",
   "execution_count": 17,
   "id": "18dda5e2",
   "metadata": {},
   "outputs": [
    {
     "name": "stdout",
     "output_type": "stream",
     "text": [
      "x = 10\n",
      "umur = 25\n",
      "y = 15\n",
      "hasil kuadrat dari 7 = 49\n"
     ]
    }
   ],
   "source": [
    "#mendefinisikan variabel dengan nilai integer\n",
    "x = 10\n",
    "\n",
    "#melakukan konversi tipe data dari string ke integer\n",
    "umur = int(\"25\")\n",
    "\n",
    "#melakukan operasi matematika dengan nilai integer\n",
    "y = x + 5\n",
    "\n",
    "#membuat fungsi dengan parameter bertipe integer\n",
    "def kuadrat(angka: int) -> int:\n",
    "    return angka ** 2\n",
    "\n",
    "#memanggil fungsi kuadrat dengan argumen bertipe integer\n",
    "hasil_kuadrat = kuadrat(7)\n",
    "\n",
    "#mencetak nilai variabel dan hasil operasi matematika\n",
    "print(\"x =\", x)\n",
    "print(\"umur =\", umur)\n",
    "print(\"y =\", y)\n",
    "print(\"hasil kuadrat dari 7 =\", hasil_kuadrat)\n"
   ]
  },
  {
   "cell_type": "code",
   "execution_count": 18,
   "id": "b782ccae",
   "metadata": {},
   "outputs": [
    {
     "name": "stdout",
     "output_type": "stream",
     "text": [
      "x = 3.14\n",
      "pi = 3.14159\n",
      "y = 6.28\n",
      "hasil luas lingkaran dengan jari-jari 1.5 = 7.065\n"
     ]
    }
   ],
   "source": [
    "#mendefinisikan variabel dengan nilai float\n",
    "x = 3.14\n",
    "\n",
    "#melakukan konversi tipe data dari string ke float\n",
    "pi = float(\"3.14159\")\n",
    "\n",
    "#melakukan operasi matematika dengan nilai float\n",
    "y = x * 2\n",
    "\n",
    "#membuat fungsi dengan parameter bertipe float\n",
    "def luas_lingkaran(jari_jari: float) -> float:\n",
    "    return 3.14 * jari_jari ** 2\n",
    "\n",
    "#memanggil fungsi luas_lingkaran dengan argumen bertipe float\n",
    "hasil_luas = luas_lingkaran(1.5)\n",
    "\n",
    "# Mencetak nilai variabel dan hasil operasi matematika\n",
    "print(\"x =\", x)\n",
    "print(\"pi =\", pi)\n",
    "print(\"y =\", y)\n",
    "print(\"hasil luas lingkaran dengan jari-jari 1.5 =\", hasil_luas)\n"
   ]
  },
  {
   "cell_type": "code",
   "execution_count": 19,
   "id": "d41e1310",
   "metadata": {},
   "outputs": [
    {
     "name": "stdout",
     "output_type": "stream",
     "text": [
      "False\n",
      "True\n",
      "False\n"
     ]
    }
   ],
   "source": [
    "x = True\n",
    "y = False\n",
    "\n",
    "#Pada baris pertama, print(x and y) akan menampilkan nilai boolean False karena operasi logika and menghasilkan nilai False jika salah satu variabel bernilai False.\n",
    "print(x and y)\n",
    "#Pada baris kedua, print(x or y) akan menampilkan nilai boolean True karena operasi logika or menghasilkan nilai True jika salah satu variabel bernilai True.\n",
    "print(x or y)\n",
    "#Pada baris ketiga, print(not x) akan menampilkan nilai boolean False karena operasi logika not akan membalik nilai boolean dari variabel x, yang awalnya True, menjadi False.\n",
    "print(not x)\n"
   ]
  },
  {
   "cell_type": "code",
   "execution_count": 20,
   "id": "552b7ab1",
   "metadata": {},
   "outputs": [
    {
     "name": "stdout",
     "output_type": "stream",
     "text": [
      "Dalam binary: 1100100\n",
      "Dalam octal: 144\n",
      "Dalam hexadecimal: 64\n"
     ]
    }
   ],
   "source": [
    "angka = 100\n",
    "\n",
    "#pada baris pertama, print(f\"Dalam binary: {angka:b}\") akan menampilkan nilai variabel angka dalam bentuk bilangan binary dengan awalan 0b.\n",
    "print(f\"Dalam binary: {angka:b}\")\n",
    "#pada baris kedua, print(f\"Dalam octal: {angka:o}\") akan menampilkan nilai variabel angka dalam bentuk bilangan octal dengan awalan 0o.\n",
    "print(f\"Dalam octal: {angka:o}\")\n",
    "#ada baris ketiga, print(f\"Dalam hexadecimal: {angka:x}\") akan menampilkan nilai variabel angka dalam bentuk bilangan hexadecimal dengan awalan 0x.\n",
    "print(f\"Dalam hexadecimal: {angka:x}\")\n"
   ]
  },
  {
   "cell_type": "code",
   "execution_count": 21,
   "id": "dcc0c35b",
   "metadata": {},
   "outputs": [
    {
     "name": "stdout",
     "output_type": "stream",
     "text": [
      "Tuliskan Suhu dalam Celcius: 39\n",
      "39.00 Derajat Celcius sama dengan 102.20 Derajat Fahrenheit\n"
     ]
    }
   ],
   "source": [
    "#menginput suhu dalam derajat Celcius\n",
    "celcius = float(input(\"Tuliskan Suhu dalam Celcius: \"))\n",
    " \n",
    "#menghitung suhu dalam derajat Fahrenheit\n",
    "fahrenheit = (celcius * 1.8) + 32\n",
    " \n",
    "#menampilkan hasil konversi jarak\n",
    "print('%0.2f Derajat Celcius sama dengan %0.2f Derajat Fahrenheit' %(celcius,fahrenheit))"
   ]
  },
  {
   "cell_type": "code",
   "execution_count": 22,
   "id": "f9e4e5b6",
   "metadata": {},
   "outputs": [
    {
     "name": "stdout",
     "output_type": "stream",
     "text": [
      "Tuliskan nilai x: 35\n",
      "Tuliskan nilai y: 75\n",
      "Nilai x Setelah Ditukar adalah: 75\n",
      "Nilai y Setelah Ditukar adalah: 35\n"
     ]
    }
   ],
   "source": [
    "#menginput nilai variabel\n",
    "x = input('Tuliskan nilai x: ')\n",
    "y = input('Tuliskan nilai y: ')\n",
    " \n",
    "#membuat variabel tukar dan menukar nilai variabel lain\n",
    "tukar = x\n",
    "x = y\n",
    "y = tukar\n",
    " \n",
    "#menampilkan nilai variabel setelah ditukar\n",
    "print('Nilai x Setelah Ditukar adalah: {}'.format(x))\n",
    "print('Nilai y Setelah Ditukar adalah: {}'.format(y))\n"
   ]
  },
  {
   "cell_type": "code",
   "execution_count": 23,
   "id": "9bddfa72",
   "metadata": {},
   "outputs": [
    {
     "name": "stdout",
     "output_type": "stream",
     "text": [
      "Tulis Sisi Kubus: 9\n",
      "Volume Kubus adalah 729.00\n"
     ]
    }
   ],
   "source": [
    "#menginput sisi kubus\n",
    "sisi = float(input('Tulis Sisi Kubus: '))\n",
    " \n",
    "#hitung volume kubus\n",
    "volume = sisi ** 3\n",
    " \n",
    "#menampilkan hasil perhitungan\n",
    "print('Volume Kubus adalah %0.2f' %volume)\n"
   ]
  },
  {
   "cell_type": "code",
   "execution_count": 24,
   "id": "1872210f",
   "metadata": {},
   "outputs": [
    {
     "name": "stdout",
     "output_type": "stream",
     "text": [
      "===============================\n",
      "Struk Pembelian Buku - Toko Buku Gramedia\n",
      "===============================\n",
      "Nama Buku: Filosofi Teras\n",
      "Jumlah Beli: 5\n",
      "Harga Satuan: Rp. 75000\n",
      "Total Harga: Rp. 375000\n",
      "===============================\n",
      "Terima kasih telah berbelanja di Toko Buku Gramedia!\n"
     ]
    }
   ],
   "source": [
    "#inisialisasi variabel\n",
    "nama_toko = \"Toko Buku Gramedia\"\n",
    "buku = \"Filosofi Teras\"\n",
    "harga = 75000\n",
    "jumlah_beli = 5\n",
    "\n",
    "#hitung total harga\n",
    "total_harga = harga * jumlah_beli\n",
    "\n",
    "#cetak struk pembelian\n",
    "print(\"===============================\")\n",
    "print(\"Struk Pembelian Buku - \" + nama_toko)\n",
    "print(\"===============================\")\n",
    "print(\"Nama Buku: \" + buku)\n",
    "print(\"Jumlah Beli: \" + str(jumlah_beli))\n",
    "print(\"Harga Satuan: Rp. \" + str(harga))\n",
    "print(\"Total Harga: Rp. \" + str(total_harga))\n",
    "print(\"===============================\")\n",
    "print(\"Terima kasih telah berbelanja di \" + nama_toko + \"!\")\n"
   ]
  },
  {
   "cell_type": "code",
   "execution_count": 25,
   "id": "60dddab8",
   "metadata": {},
   "outputs": [
    {
     "name": "stdout",
     "output_type": "stream",
     "text": [
      "===============================\n",
      "Detail Pengiriman Barang\n",
      "===============================\n",
      "Nama Pengirim: Sitha Ariesta\n",
      "Nama Penerima: Made Hernawati\n",
      "Alamat Pengirim: Jl. Letda Made Putra No.3\n",
      "Alamat Penerima: Jl. Paku Sari XI No.20\n",
      "Berat Barang: 3.8 kg\n",
      "Ongkos Kirim: Rp. 10000 per kg\n",
      "Total Ongkos Kirim: Rp. 38000.0\n",
      "===============================\n"
     ]
    }
   ],
   "source": [
    "#inisialisasi variabel\n",
    "nama_pengirim = \"Sitha Ariesta\"\n",
    "nama_penerima = \"Made Hernawati\"\n",
    "alamat_pengirim = \"Jl. Letda Made Putra No.3\"\n",
    "alamat_penerima = \"Jl. Paku Sari XI No.20\"\n",
    "berat_barang = 3.8  # dalam kilogram\n",
    "ongkos_kirim = 10000 # per kilogram\n",
    "\n",
    "#hitung total ongkos kirim\n",
    "total_ongkos_kirim = ongkos_kirim * berat_barang\n",
    "\n",
    "#cetak detail pengiriman\n",
    "print(\"===============================\")\n",
    "print(\"Detail Pengiriman Barang\")\n",
    "print(\"===============================\")\n",
    "print(\"Nama Pengirim: \" + nama_pengirim)\n",
    "print(\"Nama Penerima: \" + nama_penerima)\n",
    "print(\"Alamat Pengirim: \" + alamat_pengirim)\n",
    "print(\"Alamat Penerima: \" + alamat_penerima)\n",
    "print(\"Berat Barang: \" + str(berat_barang) + \" kg\")\n",
    "print(\"Ongkos Kirim: Rp. \" + str(ongkos_kirim) + \" per kg\")\n",
    "print(\"Total Ongkos Kirim: Rp. \" + str(total_ongkos_kirim))\n",
    "print(\"===============================\")"
   ]
  },
  {
   "cell_type": "code",
   "execution_count": 26,
   "id": "334e7ce8",
   "metadata": {},
   "outputs": [
    {
     "name": "stdout",
     "output_type": "stream",
     "text": [
      "Masukkan jumlah penjualan: 30\n",
      "Total gaji:  10045.0\n"
     ]
    }
   ],
   "source": [
    "#tentukan jumlah penjualan yang telah dibuat oleh salesman\n",
    "sales = float(input(\"Masukkan jumlah penjualan: \"))\n",
    "\n",
    "#tentukan tingkat komisi\n",
    "commission_rate = 1.5\n",
    "\n",
    "#tentukan gaji dasar\n",
    "basic_salary = 10000\n",
    "\n",
    "#hitung jumlah komisi\n",
    "commission = sales * commission_rate\n",
    "\n",
    "#hitung total gaji\n",
    "total_salary = basic_salary + commission\n",
    "\n",
    "#cetak total gaji\n",
    "print(\"Total gaji: \", total_salary)\n"
   ]
  },
  {
   "cell_type": "code",
   "execution_count": 27,
   "id": "219ab410",
   "metadata": {},
   "outputs": [
    {
     "name": "stdout",
     "output_type": "stream",
     "text": [
      "Berapa uang yang Anda miliki? Rp150000\n",
      "Berapa harga barang yang akan Anda beli? Rp105675\n",
      "Sisa uang Anda setelah membeli barang adalah Rp44325\n"
     ]
    }
   ],
   "source": [
    "#input uang yang dimiliki\n",
    "uang = int(input(\"Berapa uang yang Anda miliki? Rp\"))\n",
    "\n",
    "#input harga barang\n",
    "harga = int(input(\"Berapa harga barang yang akan Anda beli? Rp\"))\n",
    "\n",
    "#hitung sisa uang\n",
    "sisa = uang - harga\n",
    "\n",
    "#cetak hasil\n",
    "print(f\"Sisa uang Anda setelah membeli barang adalah Rp{sisa}\")"
   ]
  },
  {
   "cell_type": "code",
   "execution_count": 28,
   "id": "54d5d084",
   "metadata": {},
   "outputs": [
    {
     "name": "stdout",
     "output_type": "stream",
     "text": [
      "Total gaji: 3250000\n"
     ]
    }
   ],
   "source": [
    "#mendefinisikan variabel untuk menyimpan gaji per jam\n",
    "gaji_per_jam = 20000\n",
    "\n",
    "#mendefinisikan variabel untuk menyimpan jumlah jam kerja dalam sebulan\n",
    "jam_kerja_per_bulan = 160\n",
    "\n",
    "#mendefinisikan variabel untuk menyimpan jumlah bonus\n",
    "bonus = 50000\n",
    "\n",
    "#menghitung total gaji dengan menjumlahkan gaji per jam dengan jumlah jam kerja dalam sebulan kemudian ditambah dengan bonus\n",
    "total_gaji = gaji_per_jam * jam_kerja_per_bulan + bonus\n",
    "\n",
    "#menampilkan total gaji\n",
    "print(\"Total gaji:\", total_gaji)"
   ]
  },
  {
   "cell_type": "code",
   "execution_count": 29,
   "id": "d171a5d1",
   "metadata": {},
   "outputs": [
    {
     "ename": "SyntaxError",
     "evalue": "invalid syntax (3792041056.py, line 7)",
     "output_type": "error",
     "traceback": [
      "\u001b[1;36m  File \u001b[1;32m\"C:\\Users\\lasus\\AppData\\Local\\Temp\\ipykernel_11664\\3792041056.py\"\u001b[1;36m, line \u001b[1;32m7\u001b[0m\n\u001b[1;33m    print(addition x divison)\u001b[0m\n\u001b[1;37m                   ^\u001b[0m\n\u001b[1;31mSyntaxError\u001b[0m\u001b[1;31m:\u001b[0m invalid syntax\n"
     ]
    }
   ],
   "source": [
    "#inisialisasi variabel\n",
    "x = 10\n",
    "y = 5\n",
    "addition = x + y\n",
    "subtraction = x - y\n",
    "multiplication = x * y\n",
    "division = x / y\n",
    "\n",
    "#fungsi print menampilkan hasil addition dikali division dan hasil subtraction ditambah multiplication\n",
    "print(addition x divison)\n",
    "print(subtraction + multiplication)\n",
    "#kode diatas error karena terdapat kesalahan pada baris ketujuh yaitu penggunaan lambang kali yang salah, seharusnya menggunakan (*)"
   ]
  },
  {
   "cell_type": "code",
   "execution_count": 30,
   "id": "4e649aa2",
   "metadata": {},
   "outputs": [
    {
     "ename": "NameError",
     "evalue": "name 'divison' is not defined",
     "output_type": "error",
     "traceback": [
      "\u001b[1;31m---------------------------------------------------------------------------\u001b[0m",
      "\u001b[1;31mNameError\u001b[0m                                 Traceback (most recent call last)",
      "\u001b[1;32m~\\AppData\\Local\\Temp\\ipykernel_11664\\541240414.py\u001b[0m in \u001b[0;36m<module>\u001b[1;34m\u001b[0m\n\u001b[0;32m      5\u001b[0m \u001b[0mmultiplication\u001b[0m \u001b[1;33m=\u001b[0m \u001b[0mx\u001b[0m \u001b[1;33m*\u001b[0m \u001b[0my\u001b[0m\u001b[1;33m\u001b[0m\u001b[1;33m\u001b[0m\u001b[0m\n\u001b[0;32m      6\u001b[0m \u001b[0mdivision\u001b[0m \u001b[1;33m=\u001b[0m \u001b[0mx\u001b[0m \u001b[1;33m/\u001b[0m \u001b[0my\u001b[0m\u001b[1;33m\u001b[0m\u001b[1;33m\u001b[0m\u001b[0m\n\u001b[1;32m----> 7\u001b[1;33m \u001b[0mprint\u001b[0m\u001b[1;33m(\u001b[0m\u001b[0maddition\u001b[0m \u001b[1;33m*\u001b[0m \u001b[0mdivison\u001b[0m\u001b[1;33m)\u001b[0m\u001b[1;33m\u001b[0m\u001b[1;33m\u001b[0m\u001b[0m\n\u001b[0m\u001b[0;32m      8\u001b[0m \u001b[0mprint\u001b[0m\u001b[1;33m(\u001b[0m\u001b[0msubtraction\u001b[0m \u001b[1;33m+\u001b[0m \u001b[0mmultiplication\u001b[0m\u001b[1;33m)\u001b[0m\u001b[1;33m\u001b[0m\u001b[1;33m\u001b[0m\u001b[0m\n\u001b[0;32m      9\u001b[0m \u001b[1;31m#kode diatas salah karena terdapat kesalahan penulisan pada kalimat division, seharusnya division bukan divison\u001b[0m\u001b[1;33m\u001b[0m\u001b[1;33m\u001b[0m\u001b[0m\n",
      "\u001b[1;31mNameError\u001b[0m: name 'divison' is not defined"
     ]
    }
   ],
   "source": [
    "#inisialisasi variabel\n",
    "x = 10\n",
    "y = 5\n",
    "addition = x + y\n",
    "subtraction = x - y\n",
    "multiplication = x * y\n",
    "division = x / y\n",
    "\n",
    "#fungsi print menampilkan hasil addition dikali division dan hasil subtraction ditambah multiplication\n",
    "print(addition * divison)\n",
    "print(subtraction + multiplication)\n",
    "#kode diatas salah karena terdapat kesalahan penulisan pada kalimat division, seharusnya division bukan divison"
   ]
  },
  {
   "cell_type": "code",
   "execution_count": 31,
   "id": "31407485",
   "metadata": {},
   "outputs": [
    {
     "name": "stdout",
     "output_type": "stream",
     "text": [
      "20\n",
      "100.0\n"
     ]
    }
   ],
   "source": [
    "#inisialisasi variabel\n",
    "x = 10\n",
    "y = 5\n",
    "addition = x + y\n",
    "subtraction = x - y\n",
    "multiplication = x * y\n",
    "division = x / y\n",
    "\n",
    "#fungsi print menampilkan hasil addition dikali division dan hasil subtraction ditambah multiplication\n",
    "print(addition + subtraction)\n",
    "print(multiplication * division)"
   ]
  },
  {
   "cell_type": "code",
   "execution_count": 32,
   "id": "b092b5a1",
   "metadata": {},
   "outputs": [
    {
     "ename": "SyntaxError",
     "evalue": "invalid syntax (3447221988.py, line 4)",
     "output_type": "error",
     "traceback": [
      "\u001b[1;36m  File \u001b[1;32m\"C:\\Users\\lasus\\AppData\\Local\\Temp\\ipykernel_11664\\3447221988.py\"\u001b[1;36m, line \u001b[1;32m4\u001b[0m\n\u001b[1;33m    print(nama{6})\u001b[0m\n\u001b[1;37m              ^\u001b[0m\n\u001b[1;31mSyntaxError\u001b[0m\u001b[1;31m:\u001b[0m invalid syntax\n"
     ]
    }
   ],
   "source": [
    "nama = \"Made Wirayanti\"\n",
    "\n",
    "#fungsi print digunakan untuk menampilkan abjad yang berada pada urutan ke 0, 4, dan 6\n",
    "print(nama[0]) \n",
    "print(nama[4]) \n",
    "print(nama{6})\n",
    "#kode diatas salah karena pada baris ke 4 yaitu print(nama{6}) menggunakan {},seharusnya menggunakan [] "
   ]
  },
  {
   "cell_type": "code",
   "execution_count": 33,
   "id": "0816c0f3",
   "metadata": {},
   "outputs": [
    {
     "name": "stdout",
     "output_type": "stream",
     "text": [
      "M\n",
      " \n",
      "i\n"
     ]
    }
   ],
   "source": [
    "nama = \"Made Wirayanti\"\n",
    "\n",
    "#fungsi print digunakan untuk menampilkan abjad yang berada pada urutan ke 0, 4, dan 6\n",
    "print(nama[0]) \n",
    "print(nama[4]) \n",
    "print(nama[6])\n",
    "#mengapa print(nama[4]) tidak muncuL? ya sekarang saya tau karena tidak ada abjad pada urutan ke-4"
   ]
  },
  {
   "cell_type": "code",
   "execution_count": 34,
   "id": "37cb1898",
   "metadata": {},
   "outputs": [
    {
     "name": "stdout",
     "output_type": "stream",
     "text": [
      "a\n",
      "e\n",
      "i\n",
      "a\n"
     ]
    }
   ],
   "source": [
    "nama = \"Made Wirayanti\"\n",
    "\n",
    "#fungsi print digunakan untuk menampilkan abjad yang berada pada urutan ke 1, 3, 6, dan 8\n",
    "print(nama[1]) \n",
    "print(nama[3]) \n",
    "print(nama[6])\n",
    "print(nama[8])"
   ]
  },
  {
   "cell_type": "code",
   "execution_count": 35,
   "id": "69c81004",
   "metadata": {},
   "outputs": [
    {
     "name": "stdout",
     "output_type": "stream",
     "text": [
      "AISYANA\n",
      "adiva\n"
     ]
    }
   ],
   "source": [
    "#inisialisasi variabel\n",
    "nama1 = \"aisyana\"\n",
    "nama2 = \"adiva\"\n",
    "\n",
    "#fungsi print mengganti variabel menjadi huruf kapital dan huruf kecil\n",
    "print(nama1.upper()) \n",
    "print(nama2.lower()) \n"
   ]
  },
  {
   "cell_type": "code",
   "execution_count": null,
   "id": "20d3b19f",
   "metadata": {},
   "outputs": [],
   "source": [
    "\n"
   ]
  }
 ],
 "metadata": {
  "kernelspec": {
   "display_name": "Python 3 (ipykernel)",
   "language": "python",
   "name": "python3"
  },
  "language_info": {
   "codemirror_mode": {
    "name": "ipython",
    "version": 3
   },
   "file_extension": ".py",
   "mimetype": "text/x-python",
   "name": "python",
   "nbconvert_exporter": "python",
   "pygments_lexer": "ipython3",
   "version": "3.9.13"
  }
 },
 "nbformat": 4,
 "nbformat_minor": 5
}
