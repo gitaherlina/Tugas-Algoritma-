{
 "cells": [
  {
   "cell_type": "markdown",
   "id": "83319265",
   "metadata": {},
   "source": [
    "# TUGAS PERTEMUAN KE-EMPAT"
   ]
  },
  {
   "cell_type": "markdown",
   "id": "8448b1df",
   "metadata": {},
   "source": [
    "## 5.11 While Loop"
   ]
  },
  {
   "cell_type": "markdown",
   "id": "c52a74f2",
   "metadata": {},
   "source": [
    "While Loop akan dieksekusi selama nialainya True dan akan berhenti saat nilainya menjadi False. Perulangan ini bersifat indefinite alias tidak pasti, atau bahkan tidak terbatas."
   ]
  },
  {
   "cell_type": "code",
   "execution_count": 1,
   "id": "566f3ac2",
   "metadata": {},
   "outputs": [
    {
     "name": "stdout",
     "output_type": "stream",
     "text": [
      "Angka 4 kurang dari 9\n",
      "Angka 5 kurang dari 9\n",
      "Angka 6 kurang dari 9\n",
      "Angka 7 kurang dari 9\n",
      "Angka 8 kurang dari 9\n"
     ]
    }
   ],
   "source": [
    "#Latihan While Loop (1) dengan menggunakan tanda kurang dari (<)\n",
    "\n",
    "#inisialisasi variabel \n",
    "b = 4\n",
    "#baris ini akan melakukan perulangan selama variabel b kurang dari 9\n",
    "while b < 9:\n",
    "    #baris ini akan menampilkan nilai dari variabel b\n",
    "    print(\"Angka \" + str(b) + \" kurang dari 9\")\n",
    "    #nilai b akan ditambah dengan angka 1\n",
    "    b += 1"
   ]
  },
  {
   "cell_type": "code",
   "execution_count": 2,
   "id": "72b79f36",
   "metadata": {},
   "outputs": [
    {
     "name": "stdout",
     "output_type": "stream",
     "text": [
      "Masukkan bilangan bulat x = 7\n",
      "1\n",
      "2\n",
      "3\n",
      "4\n",
      "5\n",
      "6\n",
      "7\n"
     ]
    }
   ],
   "source": [
    "#Latihan While Loop (2) dengan menggunakan input \n",
    "\n",
    "#inisialisasi variabel \n",
    "i = 1\n",
    "#input nilai bilangan bulat pada variabel x \n",
    "x = int(input(\"Masukkan bilangan bulat x = \"))\n",
    "#baris ini akan melakukan perulangan selama variabel i kurang dari atau sama dengan nilai x  \n",
    "while i <= x:\n",
    "    #baris ini akan menampilkan nilai dari variabel i\n",
    "    print(i)\n",
    "    #nilai i akan ditambah dengan angka 1\n",
    "    i += 1"
   ]
  },
  {
   "cell_type": "code",
   "execution_count": 3,
   "id": "fd065503",
   "metadata": {},
   "outputs": [
    {
     "name": "stdout",
     "output_type": "stream",
     "text": [
      "Masukkan bilangan ganjil y = 9\n",
      "1\n",
      "3\n",
      "5\n",
      "7\n",
      "9\n",
      "bilangan ganjil 1 hingga  9 ditampilkan\n"
     ]
    }
   ],
   "source": [
    "#Latihan While Loop (3) dengan menggunakan gabungan else\n",
    "\n",
    "#inisialisasi variabel i\n",
    "i = 1\n",
    "#input nilai bilangan ganjil pada variabel y\n",
    "y = int(input(\"Masukkan bilangan ganjil y = \"))\n",
    "#baris ini akan melakukan perulangan selama variabel i kurang dari atau sama dengan y\n",
    "while i <= y:\n",
    "    #baris ini akan menampilkan nilai dari variabel i\n",
    "    print(i)\n",
    "    #nilai i akan ditambah dengan angka 2\n",
    "    i += 2 \n",
    "#baris ini akan menyatakan kondisi sebaliknya yang ada \n",
    "else:\n",
    "    #baris ini akan menampilkan output dari kode diatas \n",
    "    print(\"bilangan ganjil 1 hingga \", i-2, \"ditampilkan\")"
   ]
  },
  {
   "cell_type": "code",
   "execution_count": 4,
   "id": "f1882b06",
   "metadata": {},
   "outputs": [
    {
     "name": "stdout",
     "output_type": "stream",
     "text": [
      "(14, 10)\n",
      "(11, 8)\n",
      "(8, 6)\n",
      "(5, 4)\n",
      "(2, 2)\n",
      "(-1, 0)\n"
     ]
    }
   ],
   "source": [
    "#Latihan While Loop (4) dengan 2 kondisi\n",
    "\n",
    "#inisialisasi variabel a dan b\n",
    "a = 17\n",
    "b = 12\n",
    "#baris ini akan melakukan perulangan selama variabel a lebih besar dari 0 dan b lebih besar dari 0\n",
    "while a > 0 and b > 0:\n",
    "    #nilai a akan dikurang dengan angka 3\n",
    "    #nilai b akan dikurang dengan angka 2 \n",
    "    a -= 3\n",
    "    b -= 2\n",
    "    #baris ini akan menampilkan nilai dari (a,b)\n",
    "    print((a,b))"
   ]
  },
  {
   "cell_type": "code",
   "execution_count": 5,
   "id": "d3324ec0",
   "metadata": {},
   "outputs": [
    {
     "name": "stdout",
     "output_type": "stream",
     "text": [
      "Masukkan bilangan: 3\n",
      "Faktorial dari 3 adalah 6\n"
     ]
    }
   ],
   "source": [
    "#Latihan While Loop (5) dengan menggunakan tanda kurang dari (<) atau sama dengan (=)\n",
    "\n",
    "#input nilai n \n",
    "n = int(input(\"Masukkan bilangan: \"))\n",
    "#inisialisasi variabel \n",
    "faktorial = 1\n",
    "i = 1\n",
    "#baris ini akan melakukan perulangan selama variabel i kurang dari atau sama dengan n \n",
    "while i <= n:\n",
    "    #nilai dari faktorial akan dikali dengan angka 1 dan nilai dari i akan ditambah dengan angka 1\n",
    "    faktorial *= i\n",
    "    i += 1\n",
    "#baris ini akan  menampilkan output dari kode diatas \n",
    "print(\"Faktorial dari\", n, \"adalah\", faktorial)"
   ]
  },
  {
   "cell_type": "code",
   "execution_count": 7,
   "id": "98db6ac8",
   "metadata": {},
   "outputs": [
    {
     "name": "stdout",
     "output_type": "stream",
     "text": [
      "*\n",
      "***\n",
      "*****\n",
      "*******\n",
      "*********\n"
     ]
    }
   ],
   "source": [
    "#Latihan While Loop (6) dengan menghasilkan sebuah output *\n",
    "\n",
    "#inisialisai variabel a\n",
    "a = 1\n",
    "#baris ini akan melakukan perulangan selama a kurang dari 10\n",
    "while a < 10:\n",
    "    #baris ini akan menampilkan ouput dari kode diatas\n",
    "    print(a * \"*\")\n",
    "    #nilai a akan ditambah dengan angka 2 \n",
    "    a += 2\n",
    "    "
   ]
  },
  {
   "cell_type": "markdown",
   "id": "6f191e62",
   "metadata": {},
   "source": [
    "## 5.12 List di phyton"
   ]
  },
  {
   "cell_type": "markdown",
   "id": "5f18e514",
   "metadata": {},
   "source": [
    "List dapat digunakan saat akan mempresentasikan objek di dalam phyton baik berupa string maupun berupa angka. List dapat dipanggil urutannya, bahkan isinya dapat dirubah."
   ]
  },
  {
   "cell_type": "code",
   "execution_count": 8,
   "id": "c1e79128",
   "metadata": {},
   "outputs": [
    {
     "name": "stdout",
     "output_type": "stream",
     "text": [
      "['sawi', 'bayam', 'buncis', 'terong', 'kangkung']\n",
      "kangkung\n",
      "sawi\n",
      "kangkung\n",
      "sawi\n"
     ]
    }
   ],
   "source": [
    "#Latihan List (1) dengan menampilkan salah satu karakter dengan indeks tertentu \n",
    "\n",
    "#inisialisasi variabel sayur \n",
    "sayur = [\"sawi\",\"bayam\",\"buncis\",\"terong\",\"kangkung\"]\n",
    "#baris ini akan menampilkan karakter yang berada dalam variabel sayur \n",
    "print(sayur)\n",
    "#Berikut akan ditampilkan salah satu karakter dengan index tertentu dengan menggunakan format pakai nama_variabel[index_karakter]\n",
    "print(sayur[4])    #disini bisa dilihat bahwa urutan indeks dimulai dari 4\n",
    "print(sayur[0])    #disini bisa dilihat bahwa urutan index dimulai dari 0\n",
    "print(sayur[-1])   #disini bisa dilihat bahwa urutan terakhir didefinisikan sebagai urutan ke -1\n",
    "print(sayur[-5])   #disini bisa dilihat bahwa urutan pertama didefinisikan sebagai urutan ke -5"
   ]
  },
  {
   "cell_type": "code",
   "execution_count": 9,
   "id": "70a10c13",
   "metadata": {},
   "outputs": [
    {
     "name": "stdout",
     "output_type": "stream",
     "text": [
      "['sawi', 'bayam', 'buncis']\n",
      "['sawi', 'bayam', 'buncis', 'terong']\n",
      "['bayam', 'buncis', 'terong']\n",
      "[]\n"
     ]
    }
   ],
   "source": [
    "#Latihan List (2) dengan range slice string \n",
    "#range slice string dengan formulanya nama_variabel [a:b]\n",
    "   # a = indeks karakter yang mau mulai dicetak\n",
    "   # b = batas akhir yang mau dicetak, tapi b tidak ikut dicetak\n",
    "#inisialisasi variabel sayur \n",
    "sayur = [\"sawi\",\"bayam\",\"buncis\",\"terong\",\"kangkung\"]\n",
    "print(sayur[0:3])  #disini dapat dilihat jika kita masukan b = 3 maka karakter dengan index 3 tidak tercetak\n",
    "print(sayur[0:-1]) #disini dapat dilihat jika kita masukan b = -1 maka karakter dengan index -1 tidak tercetak\n",
    "print(sayur[-4:-1]) #disini dapat dilihat jika kita masukan b = -1 maka karakter dengan index -4 akan tercetak\n",
    "print(sayur[5:-1])  #disini dapat dilihat jika kita masukan b = -1 maka karakter dengan index 5 akan tercetak "
   ]
  },
  {
   "cell_type": "code",
   "execution_count": 10,
   "id": "865cdf2e",
   "metadata": {},
   "outputs": [
    {
     "name": "stdout",
     "output_type": "stream",
     "text": [
      "['terong']\n",
      "['sawi', 'bayam']\n",
      "['bayam', 'buncis', 'terong', 'kangkung']\n",
      "['sawi', 'bayam', 'buncis', 'terong', 'kangkung']\n"
     ]
    }
   ],
   "source": [
    "#Latihan List (3) dengan range slice string\n",
    "\n",
    "#inisialisasi variabel sayur \n",
    "sayur = [\"sawi\",\"bayam\",\"buncis\",\"terong\",\"kangkung\"]\n",
    "\n",
    "#ini berarti dimulai dari 3 sampai -1 tapi -1 tidak ikut, diambil karakter dari variabel tersebut dengan lompat 2\n",
    "print(sayur[3:-1:2])\n",
    "#untuk mengambil karakter dari awal bisa kita pakai 0 atau kita kosongin aja\n",
    "print(sayur[:-3])\n",
    "#begitu juga kalau mau ambil karakter urutan kedua sampai karakter terakhir, b nya bisa dikosongin aja, jangan pakai 0\n",
    "print(sayur[-4:])\n",
    "#jika mau cetak semua karakter dari awal sampai akhir bisa seperti berikut\n",
    "print(sayur[:])"
   ]
  },
  {
   "cell_type": "code",
   "execution_count": 11,
   "id": "9b1208f6",
   "metadata": {},
   "outputs": [
    {
     "name": "stdout",
     "output_type": "stream",
     "text": [
      "['sawi', 'wortel', 'buncis', 'terong', 'brokoli']\n"
     ]
    }
   ],
   "source": [
    "#Latihan List (4) dengan mengganti karakter pada variabel sayur \n",
    "\n",
    "#inisialisasi variabel sayur \n",
    "sayur = [\"sawi\",\"bayam\",\"buncis\",\"terong\",\"kangkung\"]\n",
    "#baris ini untuk mengganti karakter pada urutan ke 1 menjadi \"wortel\"\n",
    "sayur[1] = \"wortel\"\n",
    "#baris ini untuk mengganti karakter pada urutan ke 4 menjadi \"brokoli\"\n",
    "sayur[4] = \"brokoli\"\n",
    "#baris ini akan menampilkan output dari kode diatas \n",
    "print(sayur)"
   ]
  },
  {
   "cell_type": "code",
   "execution_count": 12,
   "id": "baad1f32",
   "metadata": {},
   "outputs": [
    {
     "name": "stdout",
     "output_type": "stream",
     "text": [
      "['sawi', 'wortel', 'buncis', 'terong', 'brokoli']\n"
     ]
    }
   ],
   "source": [
    "#Latihan List (5) hasil output tidak akan merubah list\n",
    "\n",
    "#baris ini akan menampilkan output hasil dari yang sudah diubah sebelumnya yaitu pada urutan 1 dan 4\n",
    "print(sayur)"
   ]
  },
  {
   "cell_type": "markdown",
   "id": "69b464e7",
   "metadata": {},
   "source": [
    "## 5.13 Metoda List"
   ]
  },
  {
   "cell_type": "markdown",
   "id": "f4315f9e",
   "metadata": {},
   "source": [
    "Karena list merupakan objek, maka keberadaannya dapat dimanipulasi dengan menambahkan atau mengurangi isi nya. Berikut beberapa jenis metoda list :"
   ]
  },
  {
   "cell_type": "code",
   "execution_count": 13,
   "id": "b690acfe",
   "metadata": {},
   "outputs": [
    {
     "name": "stdout",
     "output_type": "stream",
     "text": [
      "['apel', 'melon', 'jeruk', 'kiwi', 'manggis', 'alpukat']\n"
     ]
    }
   ],
   "source": [
    "#latihan Metoda List (1) dengan menggunakan append(string) yang berfungsi untuk menambahkan karakter pada string\n",
    "\n",
    "#inisialisasi variabel \n",
    "buah = [\"apel\", \"melon\", \"jeruk\", \"kiwi\", \"manggis\"]\n",
    "#baris ini akan menambahkan karakter \"alpukat\" pada variabel buah \n",
    "buah.append(\"alpukat\")\n",
    "#baris ini akan menampilkan output dari kode diatas\n",
    "print(buah)"
   ]
  },
  {
   "cell_type": "code",
   "execution_count": 14,
   "id": "43e341ad",
   "metadata": {},
   "outputs": [
    {
     "name": "stdout",
     "output_type": "stream",
     "text": [
      "['apel', 'melon', 'salak', 'jeruk', 'kiwi', 'manggis']\n"
     ]
    }
   ],
   "source": [
    "#Latihan Metoda List (2) dengan menggunakan insert yang berfungsi untuk menambahkan karakter pada string dengan format (urutan,\"karakter\")\n",
    "\n",
    "#inisialisasi variabel \n",
    "buah = [\"apel\", \"melon\", \"jeruk\", \"kiwi\", \"manggis\"]\n",
    "#baris ini akan menambah karakter \"salak\" pada urutan ke-2 \n",
    "buah.insert(2,\"salak\")\n",
    "#baris ini akan menampilkan output dari kode diatas\n",
    "print(buah)"
   ]
  },
  {
   "cell_type": "code",
   "execution_count": 15,
   "id": "423122d9",
   "metadata": {},
   "outputs": [
    {
     "name": "stdout",
     "output_type": "stream",
     "text": [
      "['apel', 'melon', 'salak', 'jeruk', 'manggis']\n"
     ]
    }
   ],
   "source": [
    "#Latihan Metoda List (3) dengan menggunakan remove yang berfungsi untuk menghapus karakter pada string \n",
    "\n",
    "#inisialisasi variabel \n",
    "buah = [\"apel\", \"melon\", \"salak\", \"jeruk\", \"kiwi\", \"manggis\"]\n",
    "#baris ini akan mengahapus karakter \"kiwi\" pada variabel buah  \n",
    "buah.remove(\"kiwi\")\n",
    "#baris ini akan menampilkan output dari kode diatas\n",
    "print(buah)"
   ]
  },
  {
   "cell_type": "code",
   "execution_count": 16,
   "id": "7954cd17",
   "metadata": {},
   "outputs": [
    {
     "name": "stdout",
     "output_type": "stream",
     "text": [
      "True\n",
      "False\n",
      "False\n"
     ]
    }
   ],
   "source": [
    "#Latihan Metoda List (4) dengan menggunakan in(string) yang berfungsi untuk menyatakan true or false bahwa karakter tersebut berada pada variabel\n",
    "\n",
    "#inisialisasi variabel \n",
    "buah = [\"apel\", \"melon\", \"salak\", \"jeruk\", \"manggis\"]\n",
    "#baris ini akan menyatakan true or false bahwa karakter tersebut berada pada variabel buah\n",
    "print(\"apel\" in buah)\n",
    "print(\"Melon\" in buah) #disini dapat bahwa jika kita menuliskan karakter dengan huruf besar maka akan menyatakan false\n",
    "                       #hal tersebut dikarenakan adanya perbedaan penulisan yang tidak sesuai dengan karakter yang terdapat pada variabel buah \n",
    "print(\"kiwi\" in buah)"
   ]
  },
  {
   "cell_type": "code",
   "execution_count": 17,
   "id": "a83514ed",
   "metadata": {},
   "outputs": [
    {
     "name": "stdout",
     "output_type": "stream",
     "text": [
      "6\n"
     ]
    }
   ],
   "source": [
    "#Latihan Metoda List (5) dengan menggunakan len(string) yang berfungsi untuk mengetahui banyak karakter dalam variabel \n",
    "\n",
    "#inisialisasi variabel \n",
    "buah = [\"apel\", \"melon\", \"salak\", \"jeruk\", \"kiwi\", \"manggis\"]\n",
    "#baris ini akan menyatakan berapa banyak karakter dalam variabel buah\n",
    "print(len(buah))"
   ]
  },
  {
   "cell_type": "code",
   "execution_count": 25,
   "id": "6e09d7a4",
   "metadata": {},
   "outputs": [
    {
     "name": "stdout",
     "output_type": "stream",
     "text": [
      "[]\n"
     ]
    }
   ],
   "source": [
    "#Latihan Metoda List (6) dengan menggunakan clear yang berfungsi untuk mengosongkan list pada variabel\n",
    "\n",
    "#inisialisasi variabel \n",
    "buah = [\"apel\", \"melon\", \"jeruk\", \"kiwi\", \"manggis\"]\n",
    "#baris ini akan mengosongkan list pada variabel buah\n",
    "buah.clear()\n",
    "#baris ini akan menampilkan output dari kode diatas \n",
    "print(buah)"
   ]
  },
  {
   "cell_type": "code",
   "execution_count": 20,
   "id": "99142d33",
   "metadata": {},
   "outputs": [
    {
     "name": "stdout",
     "output_type": "stream",
     "text": [
      "Ya, 'ceri' ada di list buah-buahan\n"
     ]
    }
   ],
   "source": [
    "#Latihan Metoda List (7) dengan menggunakan if \n",
    "\n",
    "#inisialisasi variabel\n",
    "buah = [\"apel\", \"pisang\", \"ceri\"]\n",
    "#baris ini akan menentukan tindakan apa yang diambil jika ceri ada didalam variabel buah \n",
    "if \"ceri\" in buah:\n",
    "    #baris ini akan menampilkan output dari kode diatas jika ceri ada didalam variabel \n",
    "  print(\"Ya, 'ceri' ada di list buah-buahan\")"
   ]
  },
  {
   "cell_type": "code",
   "execution_count": 24,
   "id": "0ffef159",
   "metadata": {},
   "outputs": [
    {
     "name": "stdout",
     "output_type": "stream",
     "text": [
      "['apel', 'melon', 'jeruk', 'kiwi', 'manggis', 'mangga', 'pisang', 'ceri']\n"
     ]
    }
   ],
   "source": [
    "#Latihan Metoda List (8) dengan menambahkan karakter dari satu list ke list lain\n",
    "\n",
    "#inisialisasi variabel \n",
    "buah1 = [\"apel\", \"melon\", \"jeruk\", \"kiwi\", \"manggis\"]\n",
    "buah2 = [\"mangga\", \"pisang\", \"ceri\"]\n",
    "#baris ini akan menambahkan karakter dari satu list ke list lain \n",
    "buah1.extend(buah2)\n",
    "#baris ini akan menampilkan output dari kode diatas \n",
    "print(buah1)"
   ]
  },
  {
   "cell_type": "markdown",
   "id": "8deec00c",
   "metadata": {},
   "source": [
    "## 5.14 For Loop"
   ]
  },
  {
   "cell_type": "markdown",
   "id": "43622ab8",
   "metadata": {},
   "source": [
    "For loop dapat digunakan untuk memanggil semua isi list pada variabel. "
   ]
  },
  {
   "cell_type": "code",
   "execution_count": 27,
   "id": "848270f0",
   "metadata": {},
   "outputs": [
    {
     "name": "stdout",
     "output_type": "stream",
     "text": [
      "Wati\n",
      "Maria\n",
      "Krisna\n",
      "Deta\n",
      "Atha\n"
     ]
    }
   ],
   "source": [
    "#Latihan For Loop (1) dengan menggunakan list\n",
    "\n",
    "#inisialisasi variabel\n",
    "anak = [\"Wati\", \"Maria\", \"Krisna\", \"Deta\", \"Atha\"]\n",
    "#baris ini akan memanggil semua isi list didalam variabel nama\n",
    "for nama in anak:\n",
    "    #baris ini akan menampilkan output dari kode diatas \n",
    "    print(nama)"
   ]
  },
  {
   "cell_type": "code",
   "execution_count": 29,
   "id": "eac60ca7",
   "metadata": {},
   "outputs": [
    {
     "name": "stdout",
     "output_type": "stream",
     "text": [
      "0 Soto\n",
      "1 Nasi babi guling\n",
      "2 Bakso\n",
      "3 Sate ayam\n",
      "4 Rujak\n",
      "5 Ayam goreng\n",
      "6 Mie Ayam\n",
      "7 Rawon\n"
     ]
    }
   ],
   "source": [
    "#Latihan For Loop (2) dengan menggunakan fungsi enumerate(string) yang berfungsi untuk menambahkan penghitung ke setiap item dari objek yang dapat diubah dan mengembalikan objek enumerate\n",
    "\n",
    "#inisialisasi vaariabel \n",
    "list_makanan = [\"Soto\",\"Nasi babi guling\",\"Bakso\",\"Sate ayam\",\"Rujak\",\"Ayam goreng\",\"Mie Ayam\",\"Rawon\"]\n",
    "#baris ini akan memanggil semua isi list dan sekaligus menambahkan penghitung ke setiap item dari variabel list_makanan \n",
    "for i, makanan in enumerate(list_makanan):\n",
    "    #baris ini akan menampilkan outpput dari kode diatas \n",
    "    print(i, makanan)"
   ]
  },
  {
   "cell_type": "code",
   "execution_count": 30,
   "id": "8c975999",
   "metadata": {},
   "outputs": [
    {
     "name": "stdout",
     "output_type": "stream",
     "text": [
      "P\n",
      "U\n",
      "L\n",
      "A\n",
      "U\n",
      " \n",
      "B\n",
      "A\n",
      "L\n",
      "I\n"
     ]
    }
   ],
   "source": [
    "#Latihan For Loop (3) dengan menggunakan string\n",
    "\n",
    "#baris ini akan memanggil karakter \"PULAU BALI\"\n",
    "for karakter in \"PULAU BALI\":\n",
    "    #baris ini akan menampilkan output dari kode diatas \n",
    "    print(karakter)  "
   ]
  },
  {
   "cell_type": "code",
   "execution_count": 43,
   "id": "edc07fe6",
   "metadata": {},
   "outputs": [
    {
     "name": "stdout",
     "output_type": "stream",
     "text": [
      "1, 2, 3, 4, "
     ]
    }
   ],
   "source": [
    "#Latihan For Loop (4) \n",
    "\n",
    "#baris ini akan memanggil isi list\n",
    "for i in [1, 2, 3, 4]:\n",
    "    #baris ini akan menampilkan output dari kode diatas ditambahkan dengan diakhir masing - masing karakter berisi (,)\n",
    "    print(i, end=\", \")"
   ]
  },
  {
   "cell_type": "code",
   "execution_count": 44,
   "id": "6471d192",
   "metadata": {},
   "outputs": [
    {
     "name": "stdout",
     "output_type": "stream",
     "text": [
      "1, 1, 1, 1, 1, "
     ]
    }
   ],
   "source": [
    "#Latihan For Loop (5)\n",
    "\n",
    "#baris ini akan memanggil isi list\n",
    "for i in [1, 3, 5, 7, 9]:\n",
    "    #dengan hasil x nanti merupakan hasil operasi dari i**2 - (i-1)*(i+1)\n",
    "    x = i**2 - (i-1)*(i+1)\n",
    "    #baris ini akan menampilkan output dari kode diatas ditambahkan dengan diakhir masing - masing karakter berisi (,)\n",
    "    print(x, end=\", \")"
   ]
  },
  {
   "cell_type": "markdown",
   "id": "dce11cc6",
   "metadata": {},
   "source": [
    "## 5.15 Fungsi Range"
   ]
  },
  {
   "cell_type": "markdown",
   "id": "00d3867e",
   "metadata": {},
   "source": [
    "Fungsi range berguna untuk membangkitkan bilangan berurutan atau berpola yang kita inginkan. Untuk menuliskannya, perlu dikombinasikan dengan for loop."
   ]
  },
  {
   "cell_type": "code",
   "execution_count": 35,
   "id": "0a00525b",
   "metadata": {},
   "outputs": [
    {
     "name": "stdout",
     "output_type": "stream",
     "text": [
      "range(0, 9)\n",
      "0\n",
      "1\n",
      "2\n",
      "3\n",
      "4\n",
      "5\n",
      "6\n",
      "7\n",
      "8\n"
     ]
    }
   ],
   "source": [
    "#Latihan Fungsi Range (1)\n",
    "\n",
    "#insialisasi angka dengan range(9) yaitu dari 0 hingga 8\n",
    "angka = range(9)\n",
    "#baris ini akan menampilkan elemen - elemen yang berada didalam variabel angka \n",
    "print(angka)\n",
    "#baris ini akan memanggil isi list didalam variabel angka \n",
    "for isi in (angka):\n",
    "    #baris ini akan menampilkan elemen - elemen yang berada didalam variabel angka \n",
    "    print(isi)"
   ]
  },
  {
   "cell_type": "code",
   "execution_count": 36,
   "id": "7dbdf306",
   "metadata": {},
   "outputs": [
    {
     "name": "stdout",
     "output_type": "stream",
     "text": [
      "6\n",
      "7\n",
      "8\n",
      "9\n",
      "10\n",
      "11\n",
      "12\n",
      "13\n",
      "14\n"
     ]
    }
   ],
   "source": [
    "#Latihan Fungsi Range (2)\n",
    "\n",
    "#baris ini akan memanggil isi list dari range(6,15) yaitu dari 6 hingga 14\n",
    "for isi in range(6,15):\n",
    "    #baris ini akan menampilkan elemen - elemen yang berada didalam isi\n",
    "    print(isi)"
   ]
  },
  {
   "cell_type": "code",
   "execution_count": 37,
   "id": "ecdf302d",
   "metadata": {},
   "outputs": [
    {
     "name": "stdout",
     "output_type": "stream",
     "text": [
      "1\n",
      "4\n",
      "7\n"
     ]
    }
   ],
   "source": [
    "#Latihan Fungsi Range (3)\n",
    "\n",
    "#baris ini akan memanggil isi list dari range(1,10,3) yaitu dari 1 hingga 10 dengan penambahan lompat 3 \n",
    "for isi in range(1,10,3):\n",
    "    #baris ini akan menampilkan elemen - elemen yang berada didalam isi\n",
    "    print(isi)"
   ]
  },
  {
   "cell_type": "code",
   "execution_count": 39,
   "id": "7474f63d",
   "metadata": {},
   "outputs": [
    {
     "name": "stdout",
     "output_type": "stream",
     "text": [
      "1\n",
      "2\n",
      "3\n",
      "4\n",
      "5\n",
      "6\n",
      "7\n"
     ]
    }
   ],
   "source": [
    "#Latihan Fungsi Range (4) dengan menggunakan perintah break \n",
    "#break berfungsi untuk interupsi atau pemberhentian paksa meski iterasi belum selesai dijalankan \n",
    "\n",
    "#baris ini akan memanggil isi list dari range(1,10) yaitu dari 1 hingga 10\n",
    "for i in range(1,10):\n",
    "    #baris ini menyatakan sebuah kondisi dimana jika i sama dengan 8\n",
    "    if(i == 8):\n",
    "        #maka break akan melakukan pemberrhentian paksa meski iterasi belum selesai dijalankan\n",
    "        break\n",
    "    #baris ini akan menampilkan elemen - elemen yang berada didalam i\n",
    "    print(i)"
   ]
  },
  {
   "cell_type": "code",
   "execution_count": 41,
   "id": "ada44216",
   "metadata": {},
   "outputs": [
    {
     "name": "stdout",
     "output_type": "stream",
     "text": [
      "2\n",
      "3\n",
      "5\n",
      "6\n",
      "7\n"
     ]
    }
   ],
   "source": [
    "#Latihan Fungsi Range (5) dengan menggunakan perintah continue \n",
    "#continue berfungsi melakukan skip dan dilanjutkan iterasi berikutnya\n",
    "\n",
    "#baris ini akan memanggil isi list dari range(2,8) yaitu dari 2 hingga 8\n",
    "for k in range(2,8):\n",
    "    #baris ini menyatakan sebuah kondisi jika k sama dengan 4\n",
    "    if(k == 4):\n",
    "        #maka continue akan melakukan skip dan dilanjutkan iterasi selanjutnya\n",
    "        continue\n",
    "    #baris ini akan menampilkan elemen - elemen yang ada didalam k\n",
    "    print(k)"
   ]
  },
  {
   "cell_type": "code",
   "execution_count": 45,
   "id": "50609989",
   "metadata": {},
   "outputs": [
    {
     "name": "stdout",
     "output_type": "stream",
     "text": [
      "\n",
      " 3\n",
      "\n",
      " 5\n",
      "\n",
      " 7\n",
      "\n",
      " 9\n"
     ]
    }
   ],
   "source": [
    "#Latihan Fungsi Range (6)\n",
    "\n",
    "#inisialisasi nilai awal\n",
    "nilai_awal = 3  \n",
    "#inisialisasi nilai akhir\n",
    "nilai_akhir = 10  \n",
    "#inisialisasi pembaharuan\n",
    "nilai_pembaharuan = 2  \n",
    "#baris ini akan memanggil nilai_awal, nilai_akhir, dan nilai_pembaharuan\n",
    "for i in range(nilai_awal, nilai_akhir, nilai_pembaharuan):\n",
    "    #baris ini akan menampilkan nilai i\n",
    "    print(\"\\n\",i) "
   ]
  },
  {
   "cell_type": "code",
   "execution_count": 46,
   "id": "f178bcde",
   "metadata": {},
   "outputs": [
    {
     "name": "stdout",
     "output_type": "stream",
     "text": [
      "ISI DARI LIST :\n",
      "bahasa pemrograman  python\n",
      "bahasa pemrograman  java\n",
      "bahasa pemrograman  php\n",
      "bahasa pemrograman  c++\n"
     ]
    }
   ],
   "source": [
    "#Latihan Fungsi Range (7)\n",
    "\n",
    "#inisialisasi variabel var_list dengan nilai bertipe array list\n",
    "var_list = [\"python\", \"java\", \"php\", \"c++\"] \n",
    "#baris ini akan menampilkan \"ISI DARI LIST\"\n",
    "print(\"ISI DARI LIST :\")\n",
    "#inisialisasi variabel jum_elemen dengan nilai jumlah elemen dalam variabel var_list \n",
    "jum_elemen = len(var_list) \n",
    "#baris ini akan memanggil range dari jum_elemen\n",
    "for i in range(jum_elemen):\n",
    "    #baris ini akan menampilkan elemen-elemen yang ada didalam variabel var_list menggunakan nilai\n",
    "    print(\"bahasa pemrograman \", var_list[i]) "
   ]
  },
  {
   "cell_type": "code",
   "execution_count": 51,
   "id": "716408d6",
   "metadata": {},
   "outputs": [
    {
     "name": "stdout",
     "output_type": "stream",
     "text": [
      "2 adalah angka prima\n",
      "3 adalah angka prima\n",
      "4 sama 2 * 2\n",
      "5 adalah angka prima\n",
      "6 sama 2 * 3\n",
      "7 adalah angka prima\n",
      "8 sama 2 * 4\n",
      "9 sama 3 * 3\n"
     ]
    }
   ],
   "source": [
    "#Latihan Fungsi Range (8)\n",
    "\n",
    "#baris ini akan memanggil isi list dari range(2,10) yaitu dari 2 hingga 9\n",
    "for n in range(2, 10):\n",
    "    #baris ini akan memanggil isi list dari range (2,n) yaitu dari 2 hingga n\n",
    "    for x in range(2, n):\n",
    "        #baris ini menyatakan jika n modulo x sama dengan 0 \n",
    "         if n % x == 0:\n",
    "                #maka akan ditampilkan n sama dengan x dikali n pembulatan pembagian x\n",
    "                print(n, 'sama', x, '*', n//x)\n",
    "                #break akan melakukan pemberrhentian paksa meski iterasi belum selesai dijalankan\n",
    "                break\n",
    "    #baris ini menyatakan jika pernyatan salah\n",
    "    else:\n",
    "                #maka akan ditampilkan n adalah angka prima\n",
    "                print(n, 'adalah angka prima')"
   ]
  }
 ],
 "metadata": {
  "kernelspec": {
   "display_name": "Python 3 (ipykernel)",
   "language": "python",
   "name": "python3"
  },
  "language_info": {
   "codemirror_mode": {
    "name": "ipython",
    "version": 3
   },
   "file_extension": ".py",
   "mimetype": "text/x-python",
   "name": "python",
   "nbconvert_exporter": "python",
   "pygments_lexer": "ipython3",
   "version": "3.9.13"
  }
 },
 "nbformat": 4,
 "nbformat_minor": 5
}
