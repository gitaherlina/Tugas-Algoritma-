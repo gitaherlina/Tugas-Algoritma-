{
 "cells": [
  {
   "cell_type": "code",
   "execution_count": 1,
   "id": "7347efb8",
   "metadata": {},
   "outputs": [
    {
     "name": "stdout",
     "output_type": "stream",
     "text": [
      "A\n",
      "s\n"
     ]
    }
   ],
   "source": [
    "#Tugas III, pertemuan Senin, 21 Maret 2023\n",
    "\n",
    "#Strings index digunakan untuk mengakses karakter-karakter tertentu dalam sebuah string pada bahasa pemrograman.\n",
    "\n",
    "#contoh penggunaan strings index \n",
    "\n",
    "#insialisasikan variabel\n",
    "name = \"Atha\"\n",
    "message = \"Atha,selamat ulang tahun ya\"\n",
    "#baris pertama ini akan menampilkan karakter 0 dari string yang disimpan di dalam variabel 'name', yaitu A\n",
    "print(name[0])\n",
    "#baris kedua ini akan menampilkan karakter 5 dari string yang disimpan di dalam variabel 'message', yaitu s\n",
    "print(message[5])"
   ]
  },
  {
   "cell_type": "code",
   "execution_count": 2,
   "id": "c2c8246e",
   "metadata": {},
   "outputs": [
    {
     "name": "stdout",
     "output_type": "stream",
     "text": [
      "As\n"
     ]
    }
   ],
   "source": [
    "#kode ini akan menampilkan hasil yang sama dengan kode di atas\n",
    "#hanya saja pada kode ini karakter 0 dari string yang disimpan di dalam variabel 'name' dan karakter 5 dari string yang disimpan di dalam variabel 'message' menjadi satu baris\n",
    "#karena penggunaan tanda +\n",
    "print(name[0] + message[5])"
   ]
  },
  {
   "cell_type": "code",
   "execution_count": 3,
   "id": "e33e4715",
   "metadata": {},
   "outputs": [
    {
     "name": "stdout",
     "output_type": "stream",
     "text": [
      "t\n",
      "a\n"
     ]
    }
   ],
   "source": [
    "#baris pertama ini akan menampilkan karakter kedua (indeks 1) dalam variabel 'name' yang berisi string \"Atha\"\n",
    "#karena range slicing pada indeks 1:2 maka akan menampilkan karakter \"t\" yang berada pada indeks 1\n",
    "print(name[1:2])\n",
    "#baris kedua ini akan menampilkan karakter pada indeks 3 dalam variabel 'message' yang berisi \"Atha, selamat ulang tahun ya\"\n",
    "#karena range slicing dengan interval 8 pada range slicing 3:6 maka akan menampilkan karakter \"a\" yang berada pada indeks ke 3\n",
    "print(message[3:6:8])"
   ]
  },
  {
   "cell_type": "code",
   "execution_count": 4,
   "id": "8007ef82",
   "metadata": {},
   "outputs": [
    {
     "name": "stdout",
     "output_type": "stream",
     "text": [
      "h\n",
      "\n"
     ]
    }
   ],
   "source": [
    "#baris pertama ini akan menampilkan karakter dari indeks ke-2 hingga sebelum karakter terakhir pada variabel 'name' \n",
    "#karena 'name' adalah string \"Atha\" maka akan mengahsilkan karakter \"h\"\n",
    "print(name[2:-1])\n",
    "#baris kedua ini akan menampilkan karakter dari range indeks -2 ke 1\n",
    "#karena range indeks ini berlawanan dengan urutan pada string maka akan menampilkan string kosong\n",
    "print(name[-2:1])"
   ]
  },
  {
   "cell_type": "code",
   "execution_count": 5,
   "id": "09c93ca9",
   "metadata": {},
   "outputs": [
    {
     "name": "stdout",
     "output_type": "stream",
     "text": [
      "ha,selamat ulang tahu\n",
      "\n"
     ]
    }
   ],
   "source": [
    "#baris pertama ini akan menampilkan karakter dari indeks ke-2 hingga 4 sebelum karakter terakhir pada variabel 'message'\n",
    "#karena variabel 'message' adalah string \"Atha, selamat ulang tahun ya\" maka akan menampilkan ha, selamat ulang tahu\n",
    "print(message[2:-4])\n",
    "#baris kedua ini akan menampilkan karaker range indeks dari -2 ke -4 \n",
    "#karena range indeks ini berlawanan urutan pada string maka akan menampilkan string kosong\n",
    "print(message[-2:-4])"
   ]
  },
  {
   "cell_type": "code",
   "execution_count": 6,
   "id": "b252829e",
   "metadata": {},
   "outputs": [
    {
     "name": "stdout",
     "output_type": "stream",
     "text": [
      "ha,selamat ulang tahu\n"
     ]
    }
   ],
   "source": [
    "#kode ini menampilkan hasil yang sama dengan yang diatas\n",
    "print(message[2:-4])"
   ]
  },
  {
   "cell_type": "code",
   "execution_count": 7,
   "id": "6e436b4c",
   "metadata": {},
   "outputs": [
    {
     "name": "stdout",
     "output_type": "stream",
     "text": [
      "Atha,selamat ulang tahun ya"
     ]
    }
   ],
   "source": [
    "#insialisasikan variabel\n",
    "name = \"Atha\"\n",
    "message = \"selamat ulang tahun ya\"\n",
    "#baris ini akan menampilkan karakter dari variabel 'name' dan 'message' yang dipisahkan oleh koma dan diakhiri oleh karakter newline\n",
    "#karena parameter end diatur sebagai \",\\n\". Tanda \":\" pada name[:] dan message[:] maka akan menghasilkan seluruh isi variabel\n",
    "print(name[:], end=\",\" + message[:])"
   ]
  },
  {
   "cell_type": "code",
   "execution_count": 8,
   "id": "975c883b",
   "metadata": {},
   "outputs": [
    {
     "name": "stdout",
     "output_type": "stream",
     "text": [
      "Atha\n",
      "A t h a\n"
     ]
    }
   ],
   "source": [
    "#baris pertama akan menampilkan karakter pada indeks ke-0, ke-1, ke-2, dan ke-3 dari variabel 'name' \n",
    "#karena 'name' adalah string \"Atha\", maka operasi tersebut akan menghasilkan string \"Atha\"\n",
    "print(name[0] + name[1] + name[2] + name[3])\n",
    "#baris kedua akan menampilkan karakter pada indeks ke-0, ke-1, ke-2, dan ke-3 dari variabel 'name' secara terpisah\n",
    "#karena 'name' adalah string \"Atha\", maka operasi tersebut akan mencetak string \"A t h a\" (dipisahkan oleh spasi)\n",
    "print(name[0], name[1], name[2], name[3])"
   ]
  },
  {
   "cell_type": "code",
   "execution_count": 9,
   "id": "17d6d97e",
   "metadata": {},
   "outputs": [
    {
     "name": "stdout",
     "output_type": "stream",
     "text": [
      "Atha\n",
      "selamat\n",
      "selamat Atha\n"
     ]
    }
   ],
   "source": [
    "#baris pertama akan menampilkan karakter pada variabel 'name' dari indeks ke-0 hingga ke-4 (karena batas atas dalam range tidak ikut dicetak)\n",
    "#karena name adalah string \"Atha\", maka operasi tersebut akan mencetak string \"Atha\"\n",
    "print(name[:5])\n",
    "#baris kedua akan menampilkan karakter pada variabel 'message' dari indeks ke-0 hingga ke-6 (karena batas atas dalam range tidak ikut dicetak)\n",
    "#karena message adalah string \"Selamat ulang tahun ya\", maka operasi tersebut akan mencetak string \"Selamat”\n",
    "print(message[:7])\n",
    "#baris ketiga akan menampilkan gabungan karakter yang dihasilkan pada variabel 'message' dan variabel \"name\" \n",
    "print(message[:7], name[:5])"
   ]
  },
  {
   "cell_type": "code",
   "execution_count": 10,
   "id": "64db294a",
   "metadata": {},
   "outputs": [
    {
     "name": "stdout",
     "output_type": "stream",
     "text": [
      "A\n",
      "A\n"
     ]
    }
   ],
   "source": [
    "#baris pertama akan menampilkan karakter pada variabel 'name' dari indeks ke-0 hingga ke-1 (karena batas atas dalam range adalah -3, yang merupakan indeks terakhir dikurangi 3, sehingga indeks ke-2 dan ke-3 tidak ikut dicetak), dengan langkah sebesar 1\n",
    "#karena 'name' adalah string \"Atha\", maka operasi tersebut akan mencetak string “A”\n",
    "print(name[:-3:])\n",
    "#baris kedua akan menampilkan karakter pada variabel name dari indeks ke-0 hingga ke-1 (karena batas atas dalam range adalah -3, yang merupakan indeks terakhir dikurangi 3, sehingga indeks ke-2 dan ke-3 tidak ikut dicetak). \n",
    "#karena name adalah string \"Atha\", maka operasi tersebut akan mencetak string \"A”\n",
    "print(name[:-3])\n",
    "#kode ini menampilkan hasil yang sama walaupun berbeda penulisan dalam string index"
   ]
  },
  {
   "cell_type": "code",
   "execution_count": 11,
   "id": "99afdfd8",
   "metadata": {},
   "outputs": [
    {
     "name": "stdout",
     "output_type": "stream",
     "text": [
      "selamat\n",
      " ulang tahun ya\n",
      "selamat  ulang tahun ya\n"
     ]
    }
   ],
   "source": [
    "#baris pertama akan menampilkan karakter pada variabel 'message' dari indeks ke-0 hingga ke-6 (karena batas atas dalam range tidak ikut dicetak)\n",
    "#karena 'message' adalah string \"Selamat ulang tahun ya\", maka operasi tersebut akan mencetak string \"Selamat”\n",
    "print (message[:7])\n",
    "#baris kedua akan menampilkan karakter pada variabel 'message' dari indeks ke-7 hingga akhir string, yaitu indeks terakhir\n",
    "#karena 'message' adalah string \"Selamat ulang tahun ya\", maka operasi tersebut akan mencetak string \"ulang tahun ya\"\n",
    "print (message[7:])\n",
    "#baris ketiga akan menampilkan gabungan karakter yang dihasilkan pada variabel 'message dari indeks ke-0 hingga ke-6 dan dari indeks ke-7 hingga akhir'\n",
    "print (message[:7],message[7:])"
   ]
  },
  {
   "cell_type": "code",
   "execution_count": 12,
   "id": "08780410",
   "metadata": {},
   "outputs": [
    {
     "name": "stdout",
     "output_type": "stream",
     "text": [
      "<class 'int'>\n",
      "<class 'float'>\n",
      "<class 'str'>\n",
      "<class 'list'>\n",
      "<class 'dict'>\n"
     ]
    }
   ],
   "source": [
    "#Strings methods merupakan beberapa metode yang banyak digunakan pada variabel berjenis string\n",
    "\n",
    "#contoh penggunaan strings methods \n",
    "#1. Fungsi type berfungsi untuk mengetahui jenis atau tipe data dari suatu onjek yang menjadi argumennya. \n",
    "\n",
    "#integer \n",
    "print(type(9))\n",
    "\n",
    "#float \n",
    "print(type(9.2))\n",
    "\n",
    "#string\n",
    "print(type('9'))\n",
    "\n",
    "#list \n",
    "print(type([7,8,9]))\n",
    "\n",
    "#dictionary \n",
    "print(type({'A':7, 'B':8, 'C':9}))\n"
   ]
  },
  {
   "cell_type": "code",
   "execution_count": 13,
   "id": "89ec8312",
   "metadata": {},
   "outputs": [
    {
     "name": "stdout",
     "output_type": "stream",
     "text": [
      "35\n"
     ]
    }
   ],
   "source": [
    "#2. Fungsi len(string) berfungsi untuk menghitung panjang karakter pada string\n",
    "\n",
    "#insialisasikan variabel \n",
    "kalimat = \"Pulau Bali adalah pulau seribu pura\"\n",
    "#baris ini akan menampilkan hasil dari panjang karakter pada variabel 'kalimat'\n",
    "print(len(kalimat))\n",
    "#spasi akan tetap dihitung sebagai panjang karakter "
   ]
  },
  {
   "cell_type": "code",
   "execution_count": 14,
   "id": "7466290c",
   "metadata": {},
   "outputs": [
    {
     "name": "stdout",
     "output_type": "stream",
     "text": [
      "28\n"
     ]
    }
   ],
   "source": [
    "#inisialisakan variabel \n",
    "y = \"wah, indah sekali pantai ini\"\n",
    "#baris ini akan menampilkan hasil dari panjang karakter pada variabel 'y'\n",
    "print(len(y))\n",
    "#spasi akan tetap dihitung sebagai panjang karakter "
   ]
  },
  {
   "cell_type": "code",
   "execution_count": 15,
   "id": "a58c5cef",
   "metadata": {},
   "outputs": [
    {
     "name": "stdout",
     "output_type": "stream",
     "text": [
      "SELAMAT DATANG DI TOKO MURNI\n",
      "SELAMAT DATANG DI TOKO MURNI\n"
     ]
    }
   ],
   "source": [
    "#3. Fungsi upper(string) berfungsi untuk menampilkan karakter pada string menjadi huruf kapital \n",
    "\n",
    "#inisialisasikan variabel \n",
    "message = \"selamat datang di toko murni\"\n",
    "#baris ini akan menampilkan karakter pada variabel 'message' menjadi huruf kapital\n",
    "print(message.upper())\n",
    "\n",
    "#inisialisasikan variabel \n",
    "message = \"SELAMAT DATANG DI TOKO MURNI\"\n",
    "#baris ini akan menampilkan karakter yang sama pada variabel 'message' yaitu berupa huruf kapital\n",
    "print(message.upper())"
   ]
  },
  {
   "cell_type": "code",
   "execution_count": 16,
   "id": "7c9ffdbc",
   "metadata": {},
   "outputs": [
    {
     "name": "stdout",
     "output_type": "stream",
     "text": [
      "negara indonesia adalah negara yang berbentuk republik\n",
      "negara indonesia adalah negara yang berbentuk republik\n"
     ]
    }
   ],
   "source": [
    "#4. Fungsi lowe(string) berfungsi untuk menampilkan karakter pada string menjadi huruf kecil\n",
    "\n",
    "#inisialisasikan variabel \n",
    "pesan = \"Negara Indonesia adalah negara yang berbentuk Republik\"\n",
    "#baris ini akan menampilkan karakter pada variabel 'pesan' menjadi huruf kecil \n",
    "print(pesan.lower())\n",
    "\n",
    "#inisialisasikan variabel \n",
    "pesan = \"negara indonesia adalah negara yang berbentuk republik\"\n",
    "#baris ini akan menampilkan karakter yang sama pada variabel 'pesan' yaitu berupa huruf kecil\n",
    "print(pesan.lower())"
   ]
  },
  {
   "cell_type": "code",
   "execution_count": 17,
   "id": "88b675f9",
   "metadata": {},
   "outputs": [
    {
     "name": "stdout",
     "output_type": "stream",
     "text": [
      "6\n",
      "-1\n"
     ]
    }
   ],
   "source": [
    "#5. Fungsi find(string) berfungsi untuk menampilkan karakter dari substring pada string \n",
    "\n",
    "#inisialisasikan variabel \n",
    "judul_novel = \"Teluk Alaska\"\n",
    "#baris ini akan menampilkan indeks dari substring \"Alaska\" pada string 'judul_novel' yaitu 6\n",
    "print(judul_novel.find(\"Alaska\"))\n",
    "\n",
    "#inisialisasikan variabel \n",
    "judul_novel = \"Teluk Alaska\"\n",
    "#baris ini akan menampilkan indeks dari substring \"teluk\" pada string 'judul_novel'\n",
    "#karena substring \"teluk\" ditulis dengan huruf kecil, sedangkan pada string 'judul_novel' ditulis dengan huruf kapital maka, hasil output yang akan ditampilkan yaitu -1\n",
    "print(judul_novel.find(\"teluk\"))"
   ]
  },
  {
   "cell_type": "code",
   "execution_count": 18,
   "id": "c325ea36",
   "metadata": {},
   "outputs": [
    {
     "name": "stdout",
     "output_type": "stream",
     "text": [
      "Pura Silayukti terletak di Kabupaten Karangasem\n",
      "Pura Besakih terletak di Kabupaten Karangasem\n"
     ]
    }
   ],
   "source": [
    "#6. Fungsi replace(string)\n",
    "\n",
    "#inisialisasikan variabel \n",
    "kalimat = \"Pura Besakih terletak di Kabupaten Karangasem\"\n",
    "#baris ini akan mengubah karakter \"Pura Besakih\" pada variabel kalimat menjadi \"Pura Silayukti\"\n",
    "print(kalimat.replace(\"Pura Besakih\", \"Pura Silayukti\"))\n",
    "\n",
    "#inisialisasikan variabel \n",
    "kalimat = \"Pura Besakih terletak di Kabupaten Karangasem\"\n",
    "#baris ini tidak akan mengubah karakter \"karangasem\" pada variabel kalimat menjadi 'Bangli'\n",
    "#karena karakter \"karangasem\" ditulis dengan huruf kecil sedangkan pada variabel 'kalimat' ditulis dengan huruf kapital di awal kata\n",
    "print(kalimat.replace(\"karangasem\", \"Bangli\"))\n",
    "#output yang dihasilkan akan tetap sama yaitu \"Pura Besakih terletak di Kabupaten Karangasem\""
   ]
  },
  {
   "cell_type": "code",
   "execution_count": 19,
   "id": "c405fa68",
   "metadata": {},
   "outputs": [
    {
     "name": "stdout",
     "output_type": "stream",
     "text": [
      "True\n",
      "False\n"
     ]
    }
   ],
   "source": [
    "#7. Fungsi in(string) berfungsi menampilkan output true or false yang dihasilkan dari string \n",
    "\n",
    "#inisialisasikan variabel \n",
    "judul_lagu = \"Sahabat Kecil\"\n",
    "#baris ini akan menampilkan output true karena karakter \"Sahabat\" pada variabel 'judul_lagu'\n",
    "print(\"Sahabat\" in judul_lagu)\n",
    "\n",
    "#inisialisasikan variabel \n",
    "judul_lagu = \"Sahabat Kecil\"\n",
    "#baris ini akan menampilkan output false karena karakter \"kecil\" pada variabel 'judul_lagu' ditulis dengan huruf kecil sedangkan pada variabel ditulis dengan huruf kapital pada awal kata \n",
    "print(\"kecil\" in judul_lagu)\n"
   ]
  },
  {
   "cell_type": "code",
   "execution_count": 20,
   "id": "0d3f2c60",
   "metadata": {},
   "outputs": [
    {
     "name": "stdout",
     "output_type": "stream",
     "text": [
      "I love you\n"
     ]
    }
   ],
   "source": [
    "#8. Fungsi capitalize(string) berfungsi mengkapitalkan huruf pertam string \n",
    "\n",
    "#inisialisasikan variabel \n",
    "message_from_mama = \"i love you\"\n",
    "#baris ini akan mengkapitalkan huruf pertama string pada variabel 'message_from_mama'\n",
    "print(message_from_mama.capitalize())"
   ]
  },
  {
   "cell_type": "code",
   "execution_count": 21,
   "id": "8105cb00",
   "metadata": {},
   "outputs": [
    {
     "name": "stdout",
     "output_type": "stream",
     "text": [
      "Sitha Ariesta\n"
     ]
    }
   ],
   "source": [
    "#9. Fungsi rstrip(string) berfungsi menghapus semua spasi spasi string\n",
    "\n",
    "#inisialisasikan variabel \n",
    "name = \"Sitha Ariesta\"\n",
    "#baris ini akan menghapus semua spasi string pada variabel 'name'\n",
    "print(name.rstrip())"
   ]
  },
  {
   "cell_type": "code",
   "execution_count": 22,
   "id": "7fe150eb",
   "metadata": {},
   "outputs": [
    {
     "name": "stdout",
     "output_type": "stream",
     "text": [
      "Bali Dijuluki Sebagai Pulau Dewata\n"
     ]
    }
   ],
   "source": [
    "#10. Fungsi title(string) berfungsi mengembalikan versi string 'titlecased', yaitu semua kata diawali dengan huruf besar dan sisanya huruf kecil\n",
    "\n",
    "#inisialisasikan variabel \n",
    "kalimat = \"bali dijuluki sebagai pulau dewata\"\n",
    "#baris ini akan menampilkan semua kata diawali dengan huruf besar dan sisanya huruf kecil \n",
    "print(kalimat.title())"
   ]
  },
  {
   "cell_type": "code",
   "execution_count": 23,
   "id": "6edc8a78",
   "metadata": {},
   "outputs": [
    {
     "name": "stdout",
     "output_type": "stream",
     "text": [
      "Total belanja Rp.95000\n",
      "Selamat Anda mendapatkan diskon 5%\n",
      "Total belanja Anda, Rp. 95000\n",
      "Potongan harga, Rp. 4750.0\n",
      "Anda cukup bayar, Rp. 90250.0\n",
      "Terimakasih sudah belanja di toko kami\n"
     ]
    }
   ],
   "source": [
    "#operator if berfungsi menampilkan data yang sesuai dengan kondisi yang telah didefinisikan sebelumnya\n",
    "\n",
    "#contoh penggunaan operator if\n",
    "#input data total belanja \n",
    "belanja = int(input(\"Total belanja Rp.\"))\n",
    "\n",
    "#baris ini akan melakukan seleksi atau percabangan kondisi\n",
    "if belanja > 50000:\n",
    "    print(\"Selamat Anda mendapatkan diskon 5%\")\n",
    "    \n",
    "    #baris ini akan mengunakan operasi perkalian, pembagian, dan pengurangan untuk menentukan diskon dan bayar\n",
    "    diskon = belanja * 5/100\n",
    "    bayar = belanja - diskon \n",
    "    \n",
    "    print(\"Total belanja Anda, Rp.\", belanja)\n",
    "    print(\"Potongan harga, Rp.\", diskon)\n",
    "    print(\"Anda cukup bayar, Rp.\", bayar)\n",
    "    \n",
    "    print(\"Terimakasih sudah belanja di toko kami\")"
   ]
  },
  {
   "cell_type": "code",
   "execution_count": 24,
   "id": "b7d7d21d",
   "metadata": {},
   "outputs": [
    {
     "name": "stdout",
     "output_type": "stream",
     "text": [
      "Masukkan nilai: 75\n",
      "Predikat C\n"
     ]
    }
   ],
   "source": [
    "#input data nilai \n",
    "nilai = int(input('Masukkan nilai: '))\n",
    "#baris ini akan melakukan seleksi dan percabangan kondisi\n",
    "if nilai >= 95:\n",
    "  print('Predikat A')\n",
    "elif nilai >= 88:\n",
    "  print('Predikat B')\n",
    "elif nilai >= 65:\n",
    "  print('Predikat C')\n",
    "elif nilai >= 45:\n",
    "  print('Predikat D')\n",
    "else:\n",
    "  print('Predikat E')"
   ]
  },
  {
   "cell_type": "code",
   "execution_count": 25,
   "id": "22ffee45",
   "metadata": {},
   "outputs": [
    {
     "name": "stdout",
     "output_type": "stream",
     "text": [
      "Masukkan nama buah dalam huruf kecil: alpukat\n",
      "Buah yang anda cari tersedia!\n"
     ]
    }
   ],
   "source": [
    "#inisialisasikan variabel \n",
    "buah_yang_tersedia = ['anggur', 'pisang', 'melon', 'alpukat']\n",
    "#input data buah_yang_dicari\n",
    "buah_yang_dicari = input('Masukkan nama buah dalam huruf kecil: ')\n",
    "#baris ini akan melakukan seleksi dan percabangan kondisi\n",
    "if (buah_yang_dicari in buah_yang_tersedia):\n",
    "  print('Buah yang anda cari tersedia!')\n",
    "else:\n",
    "  print('Buah yang anda cari tidak tersedia!')"
   ]
  },
  {
   "cell_type": "code",
   "execution_count": 26,
   "id": "4bdfdd8b",
   "metadata": {},
   "outputs": [
    {
     "name": "stdout",
     "output_type": "stream",
     "text": [
      "Masukkan nilai: 65\n",
      "Masukkan usia: 12\n",
      "Mohon maaf dek, coba lagi ya!\n"
     ]
    }
   ],
   "source": [
    "#input data nilai dan usia \n",
    "nilai = int(input('Masukkan nilai: '))\n",
    "usia = int(input('Masukkan usia: '))\n",
    "\n",
    "#baris ini akan melakukan seleksi dan percabangan kondisi\n",
    "if nilai >= 80:\n",
    "  if (usia < 15):\n",
    "    print('Selamat adek, kamu lulus!')\n",
    "  else:\n",
    "    print('Selamat kakak, kamu lulus!')\n",
    "else:\n",
    "  if (usia < 15):\n",
    "    print('Mohon maaf dek, coba lagi ya!')\n",
    "  else:\n",
    "    print('Mohon maaf kak, coba lagi ya!')"
   ]
  },
  {
   "cell_type": "code",
   "execution_count": 27,
   "id": "f26044ae",
   "metadata": {},
   "outputs": [
    {
     "name": "stdout",
     "output_type": "stream",
     "text": [
      "y lebih besar dari x\n"
     ]
    }
   ],
   "source": [
    "#kombinasi operator perbandingan dan operator if \n",
    "#operator perbandingan berfungsi untuk membandingkan dua buah nilai sedangkan operator if berfungsi menampilkan data yang sesuai dengan kondisi yang telah didefinisikan sebelumnya\n",
    "x = 20\n",
    "y = 38\n",
    "\n",
    "#baris ini akan melakukan seleksi dan percabangan kondisi\n",
    "if x > y:\n",
    "    print(\"x lebih besar dari y\")\n",
    "elif x < y:\n",
    "    print(\"y lebih besar dari x\")\n",
    "elif x == y:\n",
    "    print(\"x sama dengan y\")\n",
    "else:\n",
    "    print(\"tidak diketahui\")"
   ]
  },
  {
   "cell_type": "code",
   "execution_count": 28,
   "id": "e0922cfb",
   "metadata": {},
   "outputs": [
    {
     "name": "stdout",
     "output_type": "stream",
     "text": [
      "Nilai: 55\n",
      "Jangan keseringan main ya\n"
     ]
    }
   ],
   "source": [
    "#insialisasikan variabel \n",
    "nilai = 55\n",
    "#baris ini akan menampilkan nilai \n",
    "print('Nilai:',nilai)\n",
    "\n",
    "#baris ini akan melakukan seleksi dan prcabangan kondisi \n",
    "if nilai >= 90:\n",
    "  print('Wah, keren pertahankan ya')\n",
    "elif (nilai >= 80) and (nilai < 90):\n",
    "  print('Harus lebih baik lagi ya')\n",
    "elif (nilai >= 60) and (nilai < 80):\n",
    "  print('Perbanyak belajar lagi ya')\n",
    "elif (nilai >= 40) and (nilai < 60):\n",
    "  print('Jangan keseringan main ya')\n",
    "elif nilai < 40:\n",
    "  print('Kebanyakan bolos sih')\n",
    "else:\n",
    "  print('Maaf, format nilai tidak sesuai')"
   ]
  },
  {
   "cell_type": "code",
   "execution_count": 29,
   "id": "927e2e0a",
   "metadata": {},
   "outputs": [
    {
     "name": "stdout",
     "output_type": "stream",
     "text": [
      "10 * 5 + 13 - 0 = 63\n"
     ]
    }
   ],
   "source": [
    "#operasi matematika di phyton\n",
    "#1. penggunaan pejumlahan, perkalian, pengurangan\n",
    "\n",
    "#nilai variable a,b,c, dan d diinisialisasi dengan nilai masing - masing 10,5,13 dan 0.\n",
    "a = 10\n",
    "b = 5\n",
    "c = 13\n",
    "d = 0\n",
    "#fungsi print digunakan untuk mencetak string yang terdiri dari empat nilai variable dan tiga operator matematika.\n",
    "print(a,'*', b, '+', c '-', d, '=', a * b + c - d)"
   ]
  },
  {
   "cell_type": "code",
   "execution_count": 30,
   "id": "e9703a6d",
   "metadata": {},
   "outputs": [
    {
     "name": "stdout",
     "output_type": "stream",
     "text": [
      "3 * 10 / 2 = 15.0\n"
     ]
    }
   ],
   "source": [
    "#2.Penggunaan pembagian\n",
    "\n",
    "#mencari luas sebuah segitiga dengan rumus a*t/2 dimana variabel a dan t diinisialisasi dengan nilai 3 dan 10\n",
    "a = 3\n",
    "t = 10\n",
    "#fungsi print digunakan untuk mencetak hasil dari luas segitiga\n",
    "print(a,'*', t, '/', 2, '=', a*t/2)"
   ]
  },
  {
   "cell_type": "code",
   "execution_count": 38,
   "id": "9f944e6a",
   "metadata": {},
   "outputs": [
    {
     "name": "stdout",
     "output_type": "stream",
     "text": [
      "a*b= 12\n",
      "a*c= 15\n",
      "b*c= 20\n",
      "Apakah a*b lebih kecil dari a*c?\n",
      "Iya!\n"
     ]
    }
   ],
   "source": [
    "#operasi Perbandingan berfungsi untuk membandingkan dua buah nilai \n",
    "#contoh penggunaan operasi perbandingan\n",
    "\n",
    "#nilai variabel a,b,dan c diinisialisasi dengan nilai masing masing 3,4,dan 5\n",
    "a = 3\n",
    "b = 4\n",
    "c = 5\n",
    "\n",
    "#fungsi print 1 digunakan untuk mencetak hasil a*b\n",
    "print('a*b=', a*b)\n",
    "\n",
    "#fungsi print 2 digunakan untuk mencetak hasil a*c\n",
    "print('a*c=', a*c)\n",
    "\n",
    "#fungsi print 3 digunakan untuk mencetak hasil b*c\n",
    "print('b*c=', b*c)\n",
    "\n",
    "print('Apakah a*b lebih kecil dari a*c?')\n",
    "if a*b < a*c:\n",
    "    print('Iya!')\n",
    "else:\n",
    "    print('Tidak!')"
   ]
  },
  {
   "cell_type": "code",
   "execution_count": 39,
   "id": "cb1ce4bf",
   "metadata": {},
   "outputs": [
    {
     "name": "stdout",
     "output_type": "stream",
     "text": [
      "Keuntungan sudah mencapai target.\n",
      "Total pengeluaran: 3000000\n",
      "Total pemasukan: 5000000\n",
      "Total keuntungan: 2000000\n",
      "Persentase pengeluaran: 37.5\n"
     ]
    }
   ],
   "source": [
    "#kombinasi penggunaan operator if, operasi matematika, operator perbandingan\n",
    "\n",
    "#inisialisasikan variabel \n",
    "pemasukan = 5000000\n",
    "pengeluaran = 3000000\n",
    "\n",
    "#menghitung keuntungan\n",
    "keuntungan = pemasukan - pengeluaran\n",
    "\n",
    "#menentukan target keuntungan\n",
    "target_keuntungan = 1000000\n",
    "\n",
    "#membandingkan keuntungan dengan target\n",
    "if keuntungan >= target_keuntungan:\n",
    "    print(\"Keuntungan sudah mencapai target.\")\n",
    "else:\n",
    "    print(\"Keuntungan belum mencapai target.\")\n",
    "    \n",
    "#menghitung total pengeluaran dan pemasukan\n",
    "total = pemasukan + pengeluaran\n",
    "\n",
    "#menghitung persentase pengeluaran\n",
    "persentase_pengeluaran = pengeluaran / total * 100\n",
    "\n",
    "print(\"Total pengeluaran:\", pengeluaran)\n",
    "print(\"Total pemasukan:\", pemasukan)\n",
    "print(\"Total keuntungan:\", keuntungan)\n",
    "print(\"Persentase pengeluaran:\", persentase_pengeluaran)\n"
   ]
  },
  {
   "cell_type": "code",
   "execution_count": 40,
   "id": "119f646f",
   "metadata": {},
   "outputs": [
    {
     "name": "stdout",
     "output_type": "stream",
     "text": [
      "Masukkan nilai matematika: 65\n",
      "Masukkan nilai fisika: 85\n",
      "Masukkan nilai kimia: 55\n",
      "Siswa tidak lulus ujian\n"
     ]
    }
   ],
   "source": [
    "#operasi logika berfungsi \n",
    "#contoh penggunaan operasi logika untuk mengecek apakah seorang siswa lulus ujian atau tidak\n",
    "#siswa dianggap lulus jika nilai matematika dan nilai fisika keduanya di atas 70, atau jika nilai kimia di atas 80\n",
    "\n",
    "#input data nilai_matematika, nilai_fisika, dan nilai_kimia\n",
    "nilai_matematika = int(input('Masukkan nilai matematika: '))\n",
    "nilai_fisika = int(input('Masukkan nilai fisika: '))\n",
    "nilai_kimia = int(input('Masukkan nilai kimia: '))\n",
    "\n",
    "#baris ini akan melakukan seleksi dan percabangan kondisi\n",
    "if (nilai_matematika > 70 and nilai_fisika > 70) or nilai_kimia > 80:\n",
    "    print('Siswa lulus ujian')\n",
    "else:\n",
    "    print('Siswa tidak lulus ujian')"
   ]
  },
  {
   "cell_type": "code",
   "execution_count": 41,
   "id": "25756d7d",
   "metadata": {},
   "outputs": [
    {
     "name": "stdout",
     "output_type": "stream",
     "text": [
      "Masukkan nilai tugas: 85\n",
      "Masukkan nilai UTS: 75\n",
      "Masukkan nilai UAS: 95\n",
      "Selamat, Anda lulus dengan predikat A\n"
     ]
    }
   ],
   "source": [
    "#input data nilai_tugas, nilai_uts, nilai_uas \n",
    "nilai_tugas = float(input('Masukkan nilai tugas: '))\n",
    "nilai_uts = float(input('Masukkan nilai UTS: '))\n",
    "nilai_uas = float(input('Masukkan nilai UAS: '))\n",
    "\n",
    "#hitung nilai akhir dengan menggunakan operasi matematika \n",
    "nilai_akhir = (nilai_tugas * 0.2) + (nilai_uts * 0.3) + (nilai_uas * 0.5)\n",
    "\n",
    "#baris ini akan melakukan seleksi dan percabangan kondisi\n",
    "if nilai_akhir >= 80 and nilai_akhir <= 100:\n",
    "    print('Selamat, Anda lulus dengan predikat A')\n",
    "elif nilai_akhir >= 70 and nilai_akhir < 80:\n",
    "    print('Anda lulus dengan predikat B')\n",
    "elif nilai_akhir >= 60 and nilai_akhir < 70:\n",
    "    print('Anda lulus dengan predikat C')\n",
    "elif nilai_akhir >= 50 and nilai_akhir < 60:\n",
    "    print('Anda lulus dengan predikat D')\n",
    "else:\n",
    "    print('Maaf, Anda tidak lulus')"
   ]
  },
  {
   "cell_type": "code",
   "execution_count": 42,
   "id": "8d40142b",
   "metadata": {},
   "outputs": [
    {
     "name": "stdout",
     "output_type": "stream",
     "text": [
      "Masukkan panjang sisi 1: 6\n",
      "Masukkan panjang sisi 2: 8\n",
      "Masukkan panjang sisi 3: 5\n",
      "Segitiga ini adalah segitiga sembarang\n"
     ]
    }
   ],
   "source": [
    "# Program untuk menentukan jenis segitiga berdasarkan panjang sisi-sisinya\n",
    "\n",
    "#input data sisi1, sisi2, dan sisi3\n",
    "sisi1 = float(input('Masukkan panjang sisi 1: '))\n",
    "sisi2 = float(input('Masukkan panjang sisi 2: '))\n",
    "sisi3 = float(input('Masukkan panjang sisi 3: '))\n",
    "\n",
    "#baris ini akan melakukan seleksi dan percabangan kondisi\n",
    "if sisi1 == sisi2 == sisi3:\n",
    "    print('Segitiga ini adalah segitiga sama sisi')\n",
    "elif sisi1 != sisi2 and sisi1 != sisi3 and sisi2 != sisi3:\n",
    "    print('Segitiga ini adalah segitiga sembarang')\n",
    "elif sisi1 == sisi2 or sisi1 == sisi3 or sisi2 == sisi3:\n",
    "    if sisi1*2 + sisi22 == sisi32 or sisi12 + sisi32 == sisi22 or sisi22 + sisi32 == sisi1*2:\n",
    "        print('Segitiga ini adalah segitiga siku-siku sama kaki')\n",
    "    else:\n",
    "        print('Segitiga ini adalah segitiga sama kaki')\n",
    "else:\n",
    "    print('Segitiga ini adalah segitiga sama kaki')"
   ]
  }
 ],
 "metadata": {
  "kernelspec": {
   "display_name": "Python 3 (ipykernel)",
   "language": "python",
   "name": "python3"
  },
  "language_info": {
   "codemirror_mode": {
    "name": "ipython",
    "version": 3
   },
   "file_extension": ".py",
   "mimetype": "text/x-python",
   "name": "python",
   "nbconvert_exporter": "python",
   "pygments_lexer": "ipython3",
   "version": "3.9.13"
  }
 },
 "nbformat": 4,
 "nbformat_minor": 5
}
